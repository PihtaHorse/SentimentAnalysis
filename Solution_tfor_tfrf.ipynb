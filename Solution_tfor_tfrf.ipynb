{
 "cells": [
  {
   "cell_type": "code",
   "execution_count": 1,
   "metadata": {},
   "outputs": [
    {
     "name": "stderr",
     "output_type": "stream",
     "text": [
      "Using Theano backend.\n",
      "Using cuDNN version 5110 on context None\n",
      "Mapped name None to device cuda: GeForce GTX 1080 (0000:01:00.0)\n"
     ]
    }
   ],
   "source": [
    "import pandas as pd\n",
    "import numpy as np\n",
    "import os\n",
    "\n",
    "from sklearn.feature_extraction.text import CountVectorizer, TfidfVectorizer\n",
    "from nltk.corpus import stopwords\n",
    "\n",
    "from scipy.sparse import hstack, vstack, csr_matrix\n",
    "from scipy import sparse\n",
    "\n",
    "from keras.models import Sequential\n",
    "from keras.layers import Dense, Dropout\n",
    "from keras.layers import LSTM, Embedding, GRU\n",
    "from keras.layers import Conv1D, MaxPooling1D, GlobalAveragePooling1D\n",
    "\n",
    "from keras.callbacks import ModelCheckpoint, EarlyStopping\n",
    "from keras.utils import np_utils\n",
    "from keras.preprocessing import sequence\n",
    "from keras.layers.normalization import BatchNormalization\n",
    "from keras_tqdm import TQDMNotebookCallback, TQDMCallback\n",
    "\n",
    "\n",
    "from sklearn import linear_model\n",
    "from sklearn.naive_bayes import MultinomialNB, GaussianNB\n",
    "from sklearn.linear_model import LogisticRegression, SGDClassifier, PassiveAggressiveClassifier, Perceptron\n",
    "from sklearn.svm import SVC, LinearSVC, NuSVC\n",
    "\n",
    "from sklearn.metrics import mean_squared_error, accuracy_score\n",
    "from sklearn.model_selection import train_test_split, cross_val_score\n",
    "from sklearn.pipeline import make_pipeline\n",
    "from sklearn.feature_selection import SelectPercentile, f_classif, mutual_info_classif, chi2, SelectFromModel\n",
    "\n",
    "from sklearn import preprocessing\n",
    "from sklearn.decomposition import PCA, SparsePCA\n",
    "\n",
    "import gensim\n",
    "from gensim.models import Word2Vec\n",
    "\n",
    "import re\n",
    "import pymorphy2\n",
    "import nltk\n",
    "from nltk.tokenize import word_tokenize\n",
    "from nltk.corpus import stopwords\n",
    "import spacy\n",
    "\n",
    "from multiprocessing import Pool\n",
    "from importlib import reload"
   ]
  },
  {
   "cell_type": "code",
   "execution_count": 2,
   "metadata": {
    "collapsed": true
   },
   "outputs": [],
   "source": [
    "import matplotlib\n",
    "from matplotlib import rc\n",
    "import matplotlib.pyplot as plt\n",
    "\n",
    "#font = {'family': 'Verdana', 'weight': 'normal'}\n",
    "#rc('font', **font)\n",
    "matplotlib.style.use('ggplot')\n",
    "\n",
    "%matplotlib inline\n",
    "\n",
    "pd.set_option('display.max_rows', 15)"
   ]
  },
  {
   "cell_type": "code",
   "execution_count": 3,
   "metadata": {
    "collapsed": true
   },
   "outputs": [],
   "source": [
    "#spacy.util.set_data_path('/home/data/spacy/en-1.1.0')\n",
    "#spacy.util.set_data_path('/home/data/spacy/en_glove_cc_300_1m_vectors-1.0.0')\n",
    "spacy.util.set_data_path('/home/data/spacy/')\n",
    "nlp = spacy.load('en')"
   ]
  },
  {
   "cell_type": "markdown",
   "metadata": {},
   "source": [
    "# Загрузка данных"
   ]
  },
  {
   "cell_type": "code",
   "execution_count": 4,
   "metadata": {
    "collapsed": true
   },
   "outputs": [],
   "source": [
    "train_set = pd.read_table('/home/data/shad-yelp-sentiment-analysis/train.data', index_col=0)\n",
    "test_set = pd.read_table('/home/data/shad-yelp-sentiment-analysis/test.data', index_col=0)"
   ]
  },
  {
   "cell_type": "code",
   "execution_count": 5,
   "metadata": {},
   "outputs": [
    {
     "data": {
      "image/png": "[encoded data removed]",
      "text/plain": [
       "<matplotlib.figure.Figure at 0x7ffa77c27b00>"
      ]
     },
     "metadata": {},
     "output_type": "display_data"
    }
   ],
   "source": [
    "train_set.hist(column='Sentiment', bins=5, figsize=(12, 6))\n",
    "plt.show()"
   ]
  },
  {
   "cell_type": "code",
   "execution_count": 6,
   "metadata": {
    "collapsed": true
   },
   "outputs": [],
   "source": [
    "Y_train = train_set['Sentiment']\n",
    "Y_train_categorical = np_utils.to_categorical(Y_train)[:, 1:]"
   ]
  },
  {
   "cell_type": "raw",
   "metadata": {},
   "source": [
    "Найдем абсолютные и относительные доли вхождения оценок в выбоорку."
   ]
  },
  {
   "cell_type": "code",
   "execution_count": 7,
   "metadata": {},
   "outputs": [
    {
     "data": {
      "text/plain": [
       "1     8457\n",
       "2    10798\n",
       "3    17340\n",
       "4    35432\n",
       "5    30517\n",
       "Name: Sentiment, dtype: int64"
      ]
     },
     "execution_count": 7,
     "metadata": {},
     "output_type": "execute_result"
    }
   ],
   "source": [
    "Y_train_counts = train_set['Sentiment'].value_counts()[[1, 2, 3, 4, 5]]\n",
    "Y_train_counts"
   ]
  },
  {
   "cell_type": "code",
   "execution_count": 8,
   "metadata": {},
   "outputs": [
    {
     "data": {
      "text/plain": [
       "array([ 0.08247191,  0.10530114,  0.16909814,  0.34552972,  0.29759908])"
      ]
     },
     "execution_count": 8,
     "metadata": {},
     "output_type": "execute_result"
    }
   ],
   "source": [
    "Y_train_percents = Y_train_counts/Y_train.size\n",
    "Y_train_percents = Y_train_percents.values\n",
    "Y_train_percents"
   ]
  },
  {
   "cell_type": "markdown",
   "metadata": {},
   "source": [
    "# Tokenization"
   ]
  },
  {
   "cell_type": "markdown",
   "metadata": {},
   "source": [
    "## Spacy.io"
   ]
  },
  {
   "cell_type": "markdown",
   "metadata": {},
   "source": [
    "### Text Preparation"
   ]
  },
  {
   "cell_type": "code",
   "execution_count": 9,
   "metadata": {
    "collapsed": true
   },
   "outputs": [],
   "source": [
    "def remove_character_from_string(s, old_characters_list=['\\n', '\\t'], new_characters_list=None):\n",
    "    if not new_characters_list:\n",
    "        new_characters_list = [' ']*len(old_characters_list)\n",
    "        \n",
    "    for old_c, new_c in zip(old_characters_list, new_characters_list):\n",
    "        s = s.replace(old_c, new_c)\n",
    "        \n",
    "    return s\n",
    "\n",
    "def remove_extra_spaces(s):\n",
    "    return ' '.join( s.split() )"
   ]
  },
  {
   "cell_type": "raw",
   "metadata": {},
   "source": [
    "Заменим денежные выражения на одно унифицированное слово."
   ]
  },
  {
   "cell_type": "code",
   "execution_count": 10,
   "metadata": {
    "collapsed": true
   },
   "outputs": [],
   "source": [
    "money_regex = r'\\$[0-9.,]+'\n",
    "\n",
    "def money_regex_replace(s):\n",
    "    return re.sub(money_regex, ' money_regex ', s)"
   ]
  },
  {
   "cell_type": "raw",
   "metadata": {},
   "source": [
    "Заменим многоточия на троеточие"
   ]
  },
  {
   "cell_type": "code",
   "execution_count": 11,
   "metadata": {
    "collapsed": true
   },
   "outputs": [],
   "source": [
    "dots_regex = r'\\.[.]+'\n",
    "\n",
    "def dots_replace(s):\n",
    "    return re.sub(dots_regex, ' ... ', s)"
   ]
  },
  {
   "cell_type": "raw",
   "metadata": {},
   "source": [
    "Очистим текст от служебных символов и облегчим токенизатору работу с \"-\", скобками и черточками."
   ]
  },
  {
   "cell_type": "code",
   "execution_count": 12,
   "metadata": {
    "collapsed": true
   },
   "outputs": [],
   "source": [
    "def clear_string(s, to_lower=True):\n",
    "    s = remove_character_from_string(s, \n",
    "                                     ['\\\\n', '\\\\\"', '-', '\"', \"\\\\\", ')', '(', '/'], \n",
    "                                     [' ', ' ', ' - ', ' ', '', ' ) ', ' ( ', ' / '])\n",
    "    s = money_regex_replace(s)\n",
    "    s = dots_replace(s)\n",
    "    s = remove_extra_spaces(s)\n",
    "    s = s.lower() if to_lower else s\n",
    "    return s"
   ]
  },
  {
   "cell_type": "markdown",
   "metadata": {},
   "source": [
    "### Tokenization"
   ]
  },
  {
   "cell_type": "code",
   "execution_count": 13,
   "metadata": {
    "collapsed": true
   },
   "outputs": [],
   "source": [
    "def get_spacy_tokens_objects(s):\n",
    "    s = clear_string(s, to_lower=False)\n",
    "    return nlp(s)\n",
    "\n",
    "if 1==0:\n",
    "    train_tokenized_objects = train_set['Text'].apply(get_spacy_tokens_objects)\n",
    "    test_tokenized_objects = test_set['Text'].apply(get_spacy_tokens_objects)"
   ]
  },
  {
   "cell_type": "code",
   "execution_count": 14,
   "metadata": {
    "collapsed": true
   },
   "outputs": [],
   "source": [
    "def text_from_spacy_tokens(tokens):\n",
    "    tokens = [token.lower_ for token in tokens]\n",
    "    #tokens = [token.lemma_ if not ((token.is_oov) or (token.lemma_ == '-PRON-')) else token.lower_ for token in tokens]\n",
    "    return ' '.join(tokens)\n",
    "\n",
    "if 1==0:\n",
    "    train_tokenized = train_tokenized_objects.apply(text_from_spacy_tokens)\n",
    "    test_tokenized = test_tokenized_objects.apply(text_from_spacy_tokens)"
   ]
  },
  {
   "cell_type": "code",
   "execution_count": 15,
   "metadata": {
    "collapsed": true
   },
   "outputs": [],
   "source": [
    "method = 'load'\n",
    "\n",
    "if method == 'store':\n",
    "    train_tokenized.to_csv('train_tokenized_lemma.csv', index='Id', header=['Sentiment'])\n",
    "    test_tokenized.to_csv('test_tokenized_lemma.csv', index='Id', header=['Sentiment'])\n",
    "    \n",
    "if method == 'load':\n",
    "    train_tokenized = pd.read_csv('train_tokenized_lemma.csv', index_col='Id', header=0)\n",
    "    test_tokenized = pd.read_csv('test_tokenized_lemma.csv', index_col='Id', header=0)\n",
    "    \n",
    "    train_tokenized = train_tokenized['Sentiment']\n",
    "    test_tokenized = test_tokenized['Sentiment']"
   ]
  },
  {
   "cell_type": "code",
   "execution_count": 16,
   "metadata": {
    "collapsed": true
   },
   "outputs": [],
   "source": [
    "def space_tokenizer(s):\n",
    "    return s.split(' ')"
   ]
  },
  {
   "cell_type": "markdown",
   "metadata": {},
   "source": [
    "# Множества(train, test, validation)"
   ]
  },
  {
   "cell_type": "raw",
   "metadata": {},
   "source": [
    "Разделим train на train и validation"
   ]
  },
  {
   "cell_type": "code",
   "execution_count": 17,
   "metadata": {
    "collapsed": true
   },
   "outputs": [],
   "source": [
    "train_tokenz, validation_tokenz, y_train, y_validation = train_test_split(train_tokenized.values, Y_train.values,\n",
    "                                                                          test_size=0.1, random_state=42)\n",
    "test_tokenz = test_tokenized.values"
   ]
  },
  {
   "cell_type": "markdown",
   "metadata": {},
   "source": [
    "# Features"
   ]
  },
  {
   "cell_type": "markdown",
   "metadata": {},
   "source": [
    "## TFOR"
   ]
  },
  {
   "cell_type": "code",
   "execution_count": 18,
   "metadata": {},
   "outputs": [],
   "source": [
    "from stw import tfor\n",
    "reload(tfor);"
   ]
  },
  {
   "cell_type": "code",
   "execution_count": 24,
   "metadata": {},
   "outputs": [],
   "source": [
    "def space_tokenizer(s):\n",
    "    return s.split(' ')\n",
    "\n",
    "vectorizer = CountVectorizer(analyzer=\"word\", lowercase=False, tokenizer=space_tokenizer,\n",
    "                             min_df=20, ngram_range=(1, 3), binary=False)\n",
    "\n",
    "vectorizer = vectorizer.fit(train_tokenz)\n",
    "\n",
    "train_counts = vectorizer.transform(train_tokenz)\n",
    "validation_counts = vectorizer.transform(validation_tokenz)\n",
    "test_counts = vectorizer.transform(test_tokenz)"
   ]
  },
  {
   "cell_type": "code",
   "execution_count": 25,
   "metadata": {},
   "outputs": [],
   "source": [
    "train_counts_weighted, validation_counts_weighted, test_counts_weighted = [], [], []\n",
    "for mark in range(1, 6):\n",
    "    transformer = tfor.TforTransformer(norm='l2', sublinear_tf=False)\n",
    "    \n",
    "    counts_for_train = transformer.fit_transform(train_counts, y_train==mark)\n",
    "    counts_for_validation = transformer.transform(validation_counts)\n",
    "    counts_for_test = transformer.transform(test_counts)\n",
    "    \n",
    "    train_counts_weighted.append(counts_for_train)\n",
    "    validation_counts_weighted.append(counts_for_validation)\n",
    "    test_counts_weighted.append(counts_for_test)"
   ]
  },
  {
   "cell_type": "code",
   "execution_count": 27,
   "metadata": {},
   "outputs": [],
   "source": [
    "x_train, x_test = hstack(train_counts_weighted, format='csr'), hstack(test_counts_weighted, format='csr')\n",
    "x_validation = hstack(validation_counts_weighted, format='csr')"
   ]
  },
  {
   "cell_type": "markdown",
   "metadata": {},
   "source": [
    "## Features Selection"
   ]
  },
  {
   "cell_type": "markdown",
   "metadata": {},
   "source": [
    "### LogisticRegression SelectFromModel"
   ]
  },
  {
   "cell_type": "code",
   "execution_count": 28,
   "metadata": {},
   "outputs": [
    {
     "data": {
      "text/plain": [
       "0.62584105314480742"
      ]
     },
     "execution_count": 28,
     "metadata": {},
     "output_type": "execute_result"
    }
   ],
   "source": [
    "logreg = LogisticRegression(penalty='l2', max_iter=100, n_jobs=8)\n",
    "logreg = logreg.fit(x_train, y_train)\n",
    "\n",
    "accuracy_score(logreg.predict(x_validation), y_validation)"
   ]
  },
  {
   "cell_type": "code",
   "execution_count": 29,
   "metadata": {},
   "outputs": [],
   "source": [
    "features_selector = SelectFromModel(logreg, threshold='1.40*mean')\n",
    "features_selector = features_selector.fit(x_train, y_train)"
   ]
  },
  {
   "cell_type": "code",
   "execution_count": 30,
   "metadata": {
    "collapsed": true
   },
   "outputs": [],
   "source": [
    "x_train_filtred = features_selector.transform(x_train)\n",
    "x_validation_filtred = features_selector.transform(x_validation)\n",
    "x_test_filtred = features_selector.transform(x_test)"
   ]
  },
  {
   "cell_type": "code",
   "execution_count": 31,
   "metadata": {},
   "outputs": [
    {
     "data": {
      "text/plain": [
       "0.62652364700146268"
      ]
     },
     "execution_count": 31,
     "metadata": {},
     "output_type": "execute_result"
    }
   ],
   "source": [
    "logreg_test = LogisticRegression(penalty='l2', max_iter=100, n_jobs=8)\n",
    "logreg_test = logreg_test.fit(x_train_filtred, y_train)\n",
    "\n",
    "accuracy_score(logreg_test.predict(x_validation_filtred), y_validation)"
   ]
  },
  {
   "cell_type": "code",
   "execution_count": 32,
   "metadata": {},
   "outputs": [
    {
     "data": {
      "text/plain": [
       "(1006175, 239273)"
      ]
     },
     "execution_count": 32,
     "metadata": {},
     "output_type": "execute_result"
    }
   ],
   "source": [
    "x_train.shape[1], x_train_filtred.shape[1]"
   ]
  },
  {
   "cell_type": "markdown",
   "metadata": {},
   "source": [
    "# Models"
   ]
  },
  {
   "cell_type": "markdown",
   "metadata": {},
   "source": [
    "## NN"
   ]
  },
  {
   "cell_type": "markdown",
   "metadata": {},
   "source": [
    "### batch_generator"
   ]
  },
  {
   "cell_type": "code",
   "execution_count": 33,
   "metadata": {
    "collapsed": true
   },
   "outputs": [],
   "source": [
    "def batch_generator(X, Y, batch_size, shuffle=False):\n",
    "    number_of_batches, counter, shuffle_index = X.shape[0]//batch_size, 0, np.arange(Y.shape[0])\n",
    "    \n",
    "    if shuffle:\n",
    "        np.random.shuffle(shuffle_index)\n",
    "\n",
    "    X, Y =  X[shuffle_index], Y[shuffle_index]\n",
    "    \n",
    "    while True:\n",
    "        index_batch = shuffle_index[batch_size*counter:batch_size*(counter+1)]\n",
    "        X_batch, Y_batch = X[index_batch], Y[index_batch]\n",
    "        \n",
    "        counter += 1\n",
    "        yield X_batch.toarray(), Y_batch\n",
    "        \n",
    "        if counter == number_of_batches:\n",
    "            if shuffle:\n",
    "                np.random.shuffle(shuffle_index)\n",
    "            counter=0"
   ]
  },
  {
   "cell_type": "markdown",
   "metadata": {},
   "source": [
    "### model architecture"
   ]
  },
  {
   "cell_type": "code",
   "execution_count": 34,
   "metadata": {
    "collapsed": true
   },
   "outputs": [],
   "source": [
    "def get_nn_model(*, path_to_hdf5=False, input_dim=None):\n",
    "    # Create model\n",
    "    model = Sequential()   \n",
    "    model.add(Dropout(0.5, input_shape=input_dim))\n",
    "    model.add(Dense(25, activation='sigmoid', kernel_initializer='he_normal'))\n",
    "    model.add(Dropout(0.5))\n",
    "    model.add(Dense(5, activation='softmax', kernel_initializer='he_normal'))\n",
    "\n",
    "    # Compile model\n",
    "    model.compile(loss='categorical_crossentropy', optimizer='adam', metrics=['accuracy'])\n",
    "    \n",
    "    # load pretrained weights\n",
    "    if path_to_hdf5:\n",
    "        model.load_weights(path_to_hdf5)\n",
    "\n",
    "    print(model.summary())\n",
    "    return model\n",
    "\n",
    "filepath=\"weights_{epoch:02d}_{val_acc:.3f}.hdf5\"\n",
    "checkpoint = ModelCheckpoint(filepath, monitor='val_acc', verbose=1, save_best_only=True, mode='max')\n",
    "early_stopping = EarlyStopping(monitor='val_acc', patience=25, mode='max')\n",
    "callbacks_list = [checkpoint, early_stopping, TQDMNotebookCallback()]"
   ]
  },
  {
   "cell_type": "markdown",
   "metadata": {},
   "source": [
    "### training"
   ]
  },
  {
   "cell_type": "code",
   "execution_count": 35,
   "metadata": {},
   "outputs": [
    {
     "name": "stdout",
     "output_type": "stream",
     "text": [
      "_________________________________________________________________\n",
      "Layer (type)                 Output Shape              Param #   \n",
      "=================================================================\n",
      "dropout_1 (Dropout)          (None, 1006175)           0         \n",
      "_________________________________________________________________\n",
      "dense_1 (Dense)              (None, 25)                25154400  \n",
      "_________________________________________________________________\n",
      "dropout_2 (Dropout)          (None, 25)                0         \n",
      "_________________________________________________________________\n",
      "dense_2 (Dense)              (None, 5)                 130       \n",
      "=================================================================\n",
      "Total params: 25,154,530.0\n",
      "Trainable params: 25,154,530.0\n",
      "Non-trainable params: 0.0\n",
      "_________________________________________________________________\n",
      "None\n"
     ]
    },
    {
     "name": "stderr",
     "output_type": "stream",
     "text": [
      "The installed widget Javascript is the wrong version.\n",
      "The installed widget Javascript is the wrong version.\n"
     ]
    },
    {
     "name": "stdout",
     "output_type": "stream",
     "text": [
      "Epoch 1/1000\n",
      "Epoch 00000: val_acc improved from -inf to 0.43742, saving model to weights_00_0.437.hdf5\n",
      "123s - loss: 1.4997 - acc: 0.3377 - val_loss: 1.3278 - val_acc: 0.4374\n",
      "Epoch 2/1000\n"
     ]
    },
    {
     "name": "stderr",
     "output_type": "stream",
     "text": [
      "The installed widget Javascript is the wrong version.\n"
     ]
    },
    {
     "name": "stdout",
     "output_type": "stream",
     "text": [
      "Epoch 00001: val_acc improved from 0.43742 to 0.48148, saving model to weights_01_0.481.hdf5\n",
      "112s - loss: 1.3407 - acc: 0.3941 - val_loss: 1.2149 - val_acc: 0.4815\n",
      "Epoch 3/1000\n"
     ]
    },
    {
     "name": "stderr",
     "output_type": "stream",
     "text": [
      "The installed widget Javascript is the wrong version.\n"
     ]
    },
    {
     "name": "stdout",
     "output_type": "stream",
     "text": [
      "Epoch 00002: val_acc improved from 0.48148 to 0.52344, saving model to weights_02_0.523.hdf5\n",
      "116s - loss: 1.2334 - acc: 0.4461 - val_loss: 1.1227 - val_acc: 0.5234\n"
     ]
    },
    {
     "name": "stderr",
     "output_type": "stream",
     "text": [
      "The installed widget Javascript is the wrong version.\n"
     ]
    },
    {
     "name": "stdout",
     "output_type": "stream",
     "text": [
      "Epoch 4/1000\n",
      "Epoch 00003: val_acc improved from 0.52344 to 0.55797, saving model to weights_03_0.558.hdf5\n",
      "119s - loss: 1.1555 - acc: 0.4873 - val_loss: 1.0440 - val_acc: 0.5580\n",
      "Epoch 5/1000\n"
     ]
    },
    {
     "name": "stderr",
     "output_type": "stream",
     "text": [
      "The installed widget Javascript is the wrong version.\n"
     ]
    },
    {
     "name": "stdout",
     "output_type": "stream",
     "text": [
      "Epoch 00004: val_acc improved from 0.55797 to 0.59461, saving model to weights_04_0.595.hdf5\n",
      "114s - loss: 1.0944 - acc: 0.5065 - val_loss: 0.9871 - val_acc: 0.5946\n",
      "Epoch 6/1000\n"
     ]
    },
    {
     "name": "stderr",
     "output_type": "stream",
     "text": [
      "The installed widget Javascript is the wrong version.\n"
     ]
    },
    {
     "name": "stdout",
     "output_type": "stream",
     "text": [
      "Epoch 00005: val_acc improved from 0.59461 to 0.60664, saving model to weights_05_0.607.hdf5\n",
      "119s - loss: 1.0472 - acc: 0.5312 - val_loss: 0.9521 - val_acc: 0.6066\n"
     ]
    },
    {
     "name": "stderr",
     "output_type": "stream",
     "text": [
      "The installed widget Javascript is the wrong version.\n"
     ]
    },
    {
     "name": "stdout",
     "output_type": "stream",
     "text": [
      "Epoch 7/1000\n",
      "Epoch 00006: val_acc improved from 0.60664 to 0.61273, saving model to weights_06_0.613.hdf5\n",
      "119s - loss: 1.0274 - acc: 0.5394 - val_loss: 0.9221 - val_acc: 0.6127\n",
      "Epoch 8/1000\n"
     ]
    },
    {
     "name": "stderr",
     "output_type": "stream",
     "text": [
      "The installed widget Javascript is the wrong version.\n"
     ]
    },
    {
     "name": "stdout",
     "output_type": "stream",
     "text": [
      "Epoch 00007: val_acc improved from 0.61273 to 0.61648, saving model to weights_07_0.616.hdf5\n",
      "111s - loss: 0.9552 - acc: 0.5868 - val_loss: 0.8941 - val_acc: 0.6165\n",
      "Epoch 9/1000\n"
     ]
    },
    {
     "name": "stderr",
     "output_type": "stream",
     "text": [
      "The installed widget Javascript is the wrong version.\n"
     ]
    },
    {
     "name": "stdout",
     "output_type": "stream",
     "text": [
      "Epoch 00008: val_acc improved from 0.61648 to 0.62266, saving model to weights_08_0.623.hdf5\n",
      "119s - loss: 0.9306 - acc: 0.5968 - val_loss: 0.8800 - val_acc: 0.6227\n",
      "Epoch 10/1000\n"
     ]
    },
    {
     "name": "stderr",
     "output_type": "stream",
     "text": [
      "The installed widget Javascript is the wrong version.\n"
     ]
    },
    {
     "name": "stdout",
     "output_type": "stream",
     "text": [
      "Epoch 00009: val_acc improved from 0.62266 to 0.62805, saving model to weights_09_0.628.hdf5\n"
     ]
    },
    {
     "name": "stderr",
     "output_type": "stream",
     "text": [
      "The installed widget Javascript is the wrong version.\n"
     ]
    },
    {
     "name": "stdout",
     "output_type": "stream",
     "text": [
      "117s - loss: 0.9185 - acc: 0.5964 - val_loss: 0.8653 - val_acc: 0.6280\n",
      "Epoch 11/1000\n",
      "Epoch 00010: val_acc improved from 0.62805 to 0.63375, saving model to weights_10_0.634.hdf5\n",
      "113s - loss: 0.9035 - acc: 0.6010 - val_loss: 0.8540 - val_acc: 0.6338\n",
      "Epoch 12/1000\n"
     ]
    },
    {
     "name": "stderr",
     "output_type": "stream",
     "text": [
      "The installed widget Javascript is the wrong version.\n"
     ]
    },
    {
     "name": "stdout",
     "output_type": "stream",
     "text": [
      "Epoch 00011: val_acc improved from 0.63375 to 0.63383, saving model to weights_11_0.634.hdf5\n",
      "119s - loss: 0.8915 - acc: 0.6138 - val_loss: 0.8476 - val_acc: 0.6338\n"
     ]
    },
    {
     "name": "stderr",
     "output_type": "stream",
     "text": [
      "The installed widget Javascript is the wrong version.\n"
     ]
    },
    {
     "name": "stdout",
     "output_type": "stream",
     "text": [
      "Epoch 13/1000\n",
      "Epoch 00012: val_acc improved from 0.63383 to 0.63578, saving model to weights_12_0.636.hdf5\n",
      "113s - loss: 0.8876 - acc: 0.6105 - val_loss: 0.8391 - val_acc: 0.6358\n"
     ]
    },
    {
     "name": "stderr",
     "output_type": "stream",
     "text": [
      "The installed widget Javascript is the wrong version.\n"
     ]
    },
    {
     "name": "stdout",
     "output_type": "stream",
     "text": [
      "Epoch 14/1000\n",
      "Epoch 00013: val_acc improved from 0.63578 to 0.64141, saving model to weights_13_0.641.hdf5\n"
     ]
    },
    {
     "name": "stderr",
     "output_type": "stream",
     "text": [
      "The installed widget Javascript is the wrong version.\n"
     ]
    },
    {
     "name": "stdout",
     "output_type": "stream",
     "text": [
      "116s - loss: 0.8804 - acc: 0.6084 - val_loss: 0.8349 - val_acc: 0.6414\n",
      "Epoch 15/1000\n",
      "Epoch 00014: val_acc did not improve\n",
      "119s - loss: 0.8489 - acc: 0.6291 - val_loss: 0.8250 - val_acc: 0.6391\n",
      "Epoch 16/1000\n"
     ]
    },
    {
     "name": "stderr",
     "output_type": "stream",
     "text": [
      "The installed widget Javascript is the wrong version.\n"
     ]
    },
    {
     "name": "stdout",
     "output_type": "stream",
     "text": [
      "Epoch 00015: val_acc did not improve\n",
      "118s - loss: 0.8002 - acc: 0.6620 - val_loss: 0.8184 - val_acc: 0.6408\n",
      "Epoch 17/1000\n"
     ]
    },
    {
     "name": "stderr",
     "output_type": "stream",
     "text": [
      "The installed widget Javascript is the wrong version.\n"
     ]
    },
    {
     "name": "stdout",
     "output_type": "stream",
     "text": [
      "Epoch 00016: val_acc improved from 0.64141 to 0.64172, saving model to weights_16_0.642.hdf5\n"
     ]
    },
    {
     "name": "stderr",
     "output_type": "stream",
     "text": [
      "The installed widget Javascript is the wrong version.\n"
     ]
    },
    {
     "name": "stdout",
     "output_type": "stream",
     "text": [
      "122s - loss: 0.8013 - acc: 0.6503 - val_loss: 0.8158 - val_acc: 0.6417\n",
      "Epoch 18/1000\n",
      "Epoch 00017: val_acc improved from 0.64172 to 0.64500, saving model to weights_17_0.645.hdf5\n",
      "132s - loss: 0.7987 - acc: 0.6495 - val_loss: 0.8061 - val_acc: 0.6450\n",
      "Epoch 19/1000\n"
     ]
    },
    {
     "name": "stderr",
     "output_type": "stream",
     "text": [
      "The installed widget Javascript is the wrong version.\n"
     ]
    },
    {
     "name": "stdout",
     "output_type": "stream",
     "text": [
      "Epoch 00018: val_acc improved from 0.64500 to 0.64609, saving model to weights_18_0.646.hdf5\n"
     ]
    },
    {
     "name": "stderr",
     "output_type": "stream",
     "text": [
      "The installed widget Javascript is the wrong version.\n"
     ]
    },
    {
     "name": "stdout",
     "output_type": "stream",
     "text": [
      "124s - loss: 0.7864 - acc: 0.6630 - val_loss: 0.8052 - val_acc: 0.6461\n",
      "Epoch 20/1000\n",
      "Epoch 00019: val_acc improved from 0.64609 to 0.64695, saving model to weights_19_0.647.hdf5\n",
      "139s - loss: 0.7862 - acc: 0.6589 - val_loss: 0.8043 - val_acc: 0.6470\n",
      "Epoch 21/1000\n"
     ]
    },
    {
     "name": "stderr",
     "output_type": "stream",
     "text": [
      "The installed widget Javascript is the wrong version.\n"
     ]
    },
    {
     "name": "stdout",
     "output_type": "stream",
     "text": [
      "Epoch 00020: val_acc improved from 0.64695 to 0.64719, saving model to weights_20_0.647.hdf5\n"
     ]
    },
    {
     "name": "stderr",
     "output_type": "stream",
     "text": [
      "The installed widget Javascript is the wrong version.\n"
     ]
    },
    {
     "name": "stdout",
     "output_type": "stream",
     "text": [
      "117s - loss: 0.7863 - acc: 0.6580 - val_loss: 0.8013 - val_acc: 0.6472\n",
      "Epoch 22/1000\n",
      "Epoch 00021: val_acc did not improve\n",
      "120s - loss: 0.7570 - acc: 0.6792 - val_loss: 0.8029 - val_acc: 0.6445\n",
      "Epoch 23/1000\n"
     ]
    },
    {
     "name": "stderr",
     "output_type": "stream",
     "text": [
      "The installed widget Javascript is the wrong version.\n"
     ]
    },
    {
     "name": "stdout",
     "output_type": "stream",
     "text": [
      "Epoch 00022: val_acc did not improve\n",
      "119s - loss: 0.7100 - acc: 0.6944 - val_loss: 0.8016 - val_acc: 0.6454\n",
      "Epoch 24/1000\n"
     ]
    },
    {
     "name": "stderr",
     "output_type": "stream",
     "text": [
      "The installed widget Javascript is the wrong version.\n"
     ]
    },
    {
     "name": "stdout",
     "output_type": "stream",
     "text": [
      "Epoch 00023: val_acc improved from 0.64719 to 0.64945, saving model to weights_23_0.649.hdf5\n",
      "109s - loss: 0.7128 - acc: 0.6913 - val_loss: 0.7969 - val_acc: 0.6495\n",
      "Epoch 25/1000\n"
     ]
    },
    {
     "name": "stderr",
     "output_type": "stream",
     "text": [
      "The installed widget Javascript is the wrong version.\n"
     ]
    },
    {
     "name": "stdout",
     "output_type": "stream",
     "text": [
      "Epoch 00024: val_acc did not improve\n",
      "119s - loss: 0.7150 - acc: 0.6952 - val_loss: 0.7988 - val_acc: 0.6447\n",
      "Epoch 26/1000\n"
     ]
    },
    {
     "name": "stderr",
     "output_type": "stream",
     "text": [
      "The installed widget Javascript is the wrong version.\n"
     ]
    },
    {
     "name": "stdout",
     "output_type": "stream",
     "text": [
      "Epoch 00025: val_acc did not improve\n",
      "118s - loss: 0.7150 - acc: 0.6930 - val_loss: 0.7973 - val_acc: 0.6449\n",
      "Epoch 27/1000\n"
     ]
    },
    {
     "name": "stderr",
     "output_type": "stream",
     "text": [
      "The installed widget Javascript is the wrong version.\n"
     ]
    },
    {
     "name": "stdout",
     "output_type": "stream",
     "text": [
      "Epoch 00026: val_acc improved from 0.64945 to 0.64977, saving model to weights_26_0.650.hdf5\n",
      "109s - loss: 0.7155 - acc: 0.6877 - val_loss: 0.7920 - val_acc: 0.6498\n",
      "Epoch 28/1000\n"
     ]
    },
    {
     "name": "stderr",
     "output_type": "stream",
     "text": [
      "The installed widget Javascript is the wrong version.\n"
     ]
    },
    {
     "name": "stdout",
     "output_type": "stream",
     "text": [
      "Epoch 00027: val_acc did not improve\n",
      "122s - loss: 0.7056 - acc: 0.6998 - val_loss: 0.7953 - val_acc: 0.6483\n",
      "Epoch 29/1000\n"
     ]
    },
    {
     "name": "stderr",
     "output_type": "stream",
     "text": [
      "The installed widget Javascript is the wrong version.\n"
     ]
    },
    {
     "name": "stdout",
     "output_type": "stream",
     "text": [
      "Epoch 00028: val_acc did not improve\n",
      "121s - loss: 0.7009 - acc: 0.7030 - val_loss: 0.7960 - val_acc: 0.6491\n",
      "Epoch 30/1000\n"
     ]
    },
    {
     "name": "stderr",
     "output_type": "stream",
     "text": [
      "The installed widget Javascript is the wrong version.\n"
     ]
    },
    {
     "name": "stdout",
     "output_type": "stream",
     "text": [
      "Epoch 00029: val_acc did not improve\n",
      "114s - loss: 0.6365 - acc: 0.7352 - val_loss: 0.8030 - val_acc: 0.6466\n",
      "Epoch 31/1000\n"
     ]
    },
    {
     "name": "stderr",
     "output_type": "stream",
     "text": [
      "The installed widget Javascript is the wrong version.\n"
     ]
    },
    {
     "name": "stdout",
     "output_type": "stream",
     "text": [
      "Epoch 00030: val_acc did not improve\n",
      "121s - loss: 0.6414 - acc: 0.7313 - val_loss: 0.8001 - val_acc: 0.6488\n",
      "Epoch 32/1000\n"
     ]
    },
    {
     "name": "stderr",
     "output_type": "stream",
     "text": [
      "The installed widget Javascript is the wrong version.\n"
     ]
    },
    {
     "name": "stdout",
     "output_type": "stream",
     "text": [
      "Epoch 00031: val_acc did not improve\n",
      "114s - loss: 0.6339 - acc: 0.7298 - val_loss: 0.7982 - val_acc: 0.6490\n",
      "Epoch 33/1000\n"
     ]
    },
    {
     "name": "stderr",
     "output_type": "stream",
     "text": [
      "The installed widget Javascript is the wrong version.\n"
     ]
    },
    {
     "name": "stdout",
     "output_type": "stream",
     "text": [
      "Epoch 00032: val_acc did not improve\n",
      "116s - loss: 0.6316 - acc: 0.7316 - val_loss: 0.8006 - val_acc: 0.6476\n",
      "Epoch 34/1000\n"
     ]
    },
    {
     "name": "stderr",
     "output_type": "stream",
     "text": [
      "The installed widget Javascript is the wrong version.\n"
     ]
    },
    {
     "name": "stdout",
     "output_type": "stream",
     "text": [
      "Epoch 00033: val_acc improved from 0.64977 to 0.65156, saving model to weights_33_0.652.hdf5\n",
      "121s - loss: 0.6385 - acc: 0.7260 - val_loss: 0.7942 - val_acc: 0.6516\n"
     ]
    },
    {
     "name": "stderr",
     "output_type": "stream",
     "text": [
      "The installed widget Javascript is the wrong version.\n"
     ]
    },
    {
     "name": "stdout",
     "output_type": "stream",
     "text": [
      "Epoch 35/1000\n",
      "Epoch 00034: val_acc did not improve\n",
      "116s - loss: 0.6394 - acc: 0.7309 - val_loss: 0.8032 - val_acc: 0.6485\n",
      "Epoch 36/1000\n"
     ]
    },
    {
     "name": "stderr",
     "output_type": "stream",
     "text": [
      "The installed widget Javascript is the wrong version.\n"
     ]
    },
    {
     "name": "stdout",
     "output_type": "stream",
     "text": [
      "Epoch 00035: val_acc did not improve\n",
      "122s - loss: 0.6427 - acc: 0.7273 - val_loss: 0.8040 - val_acc: 0.6457\n",
      "Epoch 37/1000\n"
     ]
    },
    {
     "name": "stderr",
     "output_type": "stream",
     "text": [
      "The installed widget Javascript is the wrong version.\n"
     ]
    },
    {
     "name": "stdout",
     "output_type": "stream",
     "text": [
      "Epoch 00036: val_acc did not improve\n",
      "122s - loss: 0.5669 - acc: 0.7619 - val_loss: 0.8067 - val_acc: 0.6476\n",
      "Epoch 38/1000\n"
     ]
    },
    {
     "name": "stderr",
     "output_type": "stream",
     "text": [
      "The installed widget Javascript is the wrong version.\n"
     ]
    },
    {
     "name": "stdout",
     "output_type": "stream",
     "text": [
      "Epoch 00037: val_acc did not improve\n",
      "130s - loss: 0.5762 - acc: 0.7578 - val_loss: 0.8167 - val_acc: 0.6418\n",
      "Epoch 39/1000\n"
     ]
    },
    {
     "name": "stderr",
     "output_type": "stream",
     "text": [
      "The installed widget Javascript is the wrong version.\n"
     ]
    },
    {
     "name": "stdout",
     "output_type": "stream",
     "text": [
      "Epoch 00038: val_acc did not improve\n",
      "119s - loss: 0.5713 - acc: 0.7640 - val_loss: 0.8171 - val_acc: 0.6434\n",
      "Epoch 40/1000\n"
     ]
    },
    {
     "name": "stderr",
     "output_type": "stream",
     "text": [
      "The installed widget Javascript is the wrong version.\n"
     ]
    },
    {
     "name": "stdout",
     "output_type": "stream",
     "text": [
      "Epoch 00039: val_acc did not improve\n",
      "120s - loss: 0.5695 - acc: 0.7600 - val_loss: 0.8150 - val_acc: 0.6465\n",
      "Epoch 41/1000\n"
     ]
    },
    {
     "name": "stderr",
     "output_type": "stream",
     "text": [
      "The installed widget Javascript is the wrong version.\n"
     ]
    },
    {
     "name": "stdout",
     "output_type": "stream",
     "text": [
      "Epoch 00040: val_acc did not improve\n",
      "129s - loss: 0.5724 - acc: 0.7611 - val_loss: 0.8211 - val_acc: 0.6424\n",
      "Epoch 42/1000\n"
     ]
    },
    {
     "name": "stderr",
     "output_type": "stream",
     "text": [
      "The installed widget Javascript is the wrong version.\n"
     ]
    },
    {
     "name": "stdout",
     "output_type": "stream",
     "text": [
      "Epoch 00041: val_acc did not improve\n",
      "131s - loss: 0.5836 - acc: 0.7639 - val_loss: 0.8205 - val_acc: 0.6423\n",
      "Epoch 43/1000\n"
     ]
    },
    {
     "name": "stderr",
     "output_type": "stream",
     "text": [
      "The installed widget Javascript is the wrong version.\n"
     ]
    },
    {
     "name": "stdout",
     "output_type": "stream",
     "text": [
      "Epoch 00042: val_acc did not improve\n",
      "117s - loss: 0.5798 - acc: 0.7526 - val_loss: 0.8164 - val_acc: 0.6453\n",
      "Epoch 44/1000\n"
     ]
    },
    {
     "name": "stderr",
     "output_type": "stream",
     "text": [
      "The installed widget Javascript is the wrong version.\n"
     ]
    },
    {
     "name": "stdout",
     "output_type": "stream",
     "text": [
      "Epoch 00043: val_acc did not improve\n",
      "131s - loss: 0.5323 - acc: 0.7760 - val_loss: 0.8323 - val_acc: 0.6434\n",
      "Epoch 45/1000\n"
     ]
    },
    {
     "name": "stderr",
     "output_type": "stream",
     "text": [
      "The installed widget Javascript is the wrong version.\n"
     ]
    },
    {
     "name": "stdout",
     "output_type": "stream",
     "text": [
      "Epoch 00044: val_acc did not improve\n",
      "120s - loss: 0.5112 - acc: 0.7903 - val_loss: 0.8422 - val_acc: 0.6396\n",
      "Epoch 46/1000\n"
     ]
    },
    {
     "name": "stderr",
     "output_type": "stream",
     "text": [
      "The installed widget Javascript is the wrong version.\n"
     ]
    },
    {
     "name": "stdout",
     "output_type": "stream",
     "text": [
      "Epoch 00045: val_acc did not improve\n",
      "112s - loss: 0.5206 - acc: 0.7806 - val_loss: 0.8410 - val_acc: 0.6423\n",
      "Epoch 47/1000\n"
     ]
    },
    {
     "name": "stderr",
     "output_type": "stream",
     "text": [
      "The installed widget Javascript is the wrong version.\n"
     ]
    },
    {
     "name": "stdout",
     "output_type": "stream",
     "text": [
      "Epoch 00046: val_acc did not improve\n",
      "123s - loss: 0.5163 - acc: 0.7828 - val_loss: 0.8366 - val_acc: 0.6402\n",
      "Epoch 48/1000\n"
     ]
    },
    {
     "name": "stderr",
     "output_type": "stream",
     "text": [
      "The installed widget Javascript is the wrong version.\n"
     ]
    },
    {
     "name": "stdout",
     "output_type": "stream",
     "text": [
      "Epoch 00047: val_acc did not improve\n",
      "118s - loss: 0.5150 - acc: 0.7862 - val_loss: 0.8483 - val_acc: 0.6402\n",
      "Epoch 49/1000\n"
     ]
    },
    {
     "name": "stderr",
     "output_type": "stream",
     "text": [
      "The installed widget Javascript is the wrong version.\n"
     ]
    },
    {
     "name": "stdout",
     "output_type": "stream",
     "text": [
      "Epoch 00048: val_acc did not improve\n",
      "115s - loss: 0.5220 - acc: 0.7838 - val_loss: 0.8442 - val_acc: 0.6421\n",
      "Epoch 50/1000\n"
     ]
    },
    {
     "name": "stderr",
     "output_type": "stream",
     "text": [
      "The installed widget Javascript is the wrong version.\n"
     ]
    },
    {
     "name": "stdout",
     "output_type": "stream",
     "text": [
      "Epoch 00049: val_acc did not improve\n",
      "120s - loss: 0.5293 - acc: 0.7783 - val_loss: 0.8391 - val_acc: 0.6412\n",
      "Epoch 51/1000\n"
     ]
    },
    {
     "name": "stderr",
     "output_type": "stream",
     "text": [
      "The installed widget Javascript is the wrong version.\n"
     ]
    },
    {
     "name": "stdout",
     "output_type": "stream",
     "text": [
      "Epoch 00050: val_acc did not improve\n",
      "124s - loss: 0.4970 - acc: 0.7958 - val_loss: 0.8522 - val_acc: 0.6414\n",
      "Epoch 52/1000\n"
     ]
    },
    {
     "name": "stderr",
     "output_type": "stream",
     "text": [
      "The installed widget Javascript is the wrong version.\n"
     ]
    },
    {
     "name": "stdout",
     "output_type": "stream",
     "text": [
      "Epoch 00051: val_acc did not improve\n",
      "122s - loss: 0.4634 - acc: 0.8107 - val_loss: 0.8636 - val_acc: 0.6373\n",
      "Epoch 53/1000\n"
     ]
    },
    {
     "name": "stderr",
     "output_type": "stream",
     "text": [
      "The installed widget Javascript is the wrong version.\n"
     ]
    },
    {
     "name": "stdout",
     "output_type": "stream",
     "text": [
      "Epoch 00052: val_acc did not improve\n",
      "121s - loss: 0.4697 - acc: 0.8083 - val_loss: 0.8622 - val_acc: 0.6393\n",
      "Epoch 54/1000\n"
     ]
    },
    {
     "name": "stderr",
     "output_type": "stream",
     "text": [
      "The installed widget Javascript is the wrong version.\n"
     ]
    },
    {
     "name": "stdout",
     "output_type": "stream",
     "text": [
      "Epoch 00053: val_acc did not improve\n",
      "115s - loss: 0.4693 - acc: 0.8050 - val_loss: 0.8740 - val_acc: 0.6374\n",
      "Epoch 55/1000\n"
     ]
    },
    {
     "name": "stderr",
     "output_type": "stream",
     "text": [
      "The installed widget Javascript is the wrong version.\n"
     ]
    },
    {
     "name": "stdout",
     "output_type": "stream",
     "text": [
      "Epoch 00054: val_acc did not improve\n",
      "121s - loss: 0.4733 - acc: 0.8040 - val_loss: 0.8767 - val_acc: 0.6341\n",
      "Epoch 56/1000\n"
     ]
    },
    {
     "name": "stderr",
     "output_type": "stream",
     "text": [
      "The installed widget Javascript is the wrong version.\n"
     ]
    },
    {
     "name": "stdout",
     "output_type": "stream",
     "text": [
      "Epoch 00055: val_acc did not improve\n",
      "117s - loss: 0.4858 - acc: 0.7992 - val_loss: 0.8679 - val_acc: 0.6348\n",
      "Epoch 57/1000\n"
     ]
    },
    {
     "name": "stderr",
     "output_type": "stream",
     "text": [
      "The installed widget Javascript is the wrong version.\n"
     ]
    },
    {
     "name": "stdout",
     "output_type": "stream",
     "text": [
      "Epoch 00056: val_acc did not improve\n",
      "113s - loss: 0.4881 - acc: 0.7985 - val_loss: 0.8704 - val_acc: 0.6338\n",
      "Epoch 58/1000\n"
     ]
    },
    {
     "name": "stderr",
     "output_type": "stream",
     "text": [
      "The installed widget Javascript is the wrong version.\n"
     ]
    },
    {
     "name": "stdout",
     "output_type": "stream",
     "text": [
      "Epoch 00057: val_acc did not improve\n",
      "121s - loss: 0.4595 - acc: 0.8071 - val_loss: 0.8896 - val_acc: 0.6309\n",
      "Epoch 59/1000\n"
     ]
    },
    {
     "name": "stderr",
     "output_type": "stream",
     "text": [
      "The installed widget Javascript is the wrong version.\n"
     ]
    },
    {
     "name": "stdout",
     "output_type": "stream",
     "text": [
      "Epoch 00058: val_acc did not improve\n",
      "121s - loss: 0.4240 - acc: 0.8280 - val_loss: 0.8930 - val_acc: 0.6347\n",
      "Epoch 60/1000\n"
     ]
    },
    {
     "name": "stderr",
     "output_type": "stream",
     "text": [
      "The installed widget Javascript is the wrong version.\n"
     ]
    },
    {
     "name": "stdout",
     "output_type": "stream",
     "text": [
      "Epoch 00059: val_acc did not improve\n",
      "119s - loss: 0.4329 - acc: 0.8209 - val_loss: 0.9007 - val_acc: 0.6334\n",
      "\n"
     ]
    }
   ],
   "source": [
    "batch_size = 64\n",
    "steps_per_epoch = 200#batch_size*(x_train_filtred.shape[0] // batch_size)\n",
    "validation_steps = 200#batch_size*(x_validation_filtred.shape[0] // batch_size)\n",
    "input_dim = (batch_size, x_train.shape[1])\n",
    "input_dim = (x_train.shape[1], )\n",
    "\n",
    "y_train_categorical = np_utils.to_categorical(y_train)[:, 1:]\n",
    "y_validation_categorical = np_utils.to_categorical(y_validation)[:, 1:]\n",
    "\n",
    "model = get_nn_model(input_dim=input_dim)\n",
    "history = model.fit_generator(generator=batch_generator(x_train, y_train_categorical, batch_size, shuffle=True),\n",
    "                              steps_per_epoch=steps_per_epoch,\n",
    "                              validation_data=batch_generator(x_validation, y_validation_categorical,\n",
    "                                                              batch_size, shuffle=False),\n",
    "                              validation_steps=validation_steps,\n",
    "                              epochs=1000, verbose=2, callbacks=callbacks_list)"
   ]
  },
  {
   "cell_type": "code",
   "execution_count": 25,
   "metadata": {},
   "outputs": [
    {
     "name": "stdout",
     "output_type": "stream",
     "text": [
      "_________________________________________________________________\n",
      "Layer (type)                 Output Shape              Param #   \n",
      "=================================================================\n",
      "dropout_3 (Dropout)          (None, 1006175)           0         \n",
      "_________________________________________________________________\n",
      "dense_3 (Dense)              (None, 25)                25154400  \n",
      "_________________________________________________________________\n",
      "dropout_4 (Dropout)          (None, 25)                0         \n",
      "_________________________________________________________________\n",
      "dense_4 (Dense)              (None, 5)                 130       \n",
      "=================================================================\n",
      "Total params: 25,154,530.0\n",
      "Trainable params: 25,154,530.0\n",
      "Non-trainable params: 0.0\n",
      "_________________________________________________________________\n",
      "None\n"
     ]
    }
   ],
   "source": [
    "model = get_nn_model(path_to_hdf5=\"weights_49_0.648.hdf5\", input_dim=input_dim)"
   ]
  },
  {
   "cell_type": "markdown",
   "metadata": {},
   "source": [
    "# Ответ"
   ]
  },
  {
   "cell_type": "code",
   "execution_count": 27,
   "metadata": {
    "collapsed": true
   },
   "outputs": [],
   "source": [
    "def predict_generator(model, x_test):\n",
    "    results = [model.predict(row.toarray()) for row in x_test]\n",
    "    results = [np.argmax(answer_categorical[0])+1 for answer_categorical in results]\n",
    "    return results\n",
    "\n",
    "test_set['Sentiment'] = predict_generator(model, x_test)\n",
    "test_set[['Sentiment']].to_csv('ans.csv')"
   ]
  },
  {
   "cell_type": "code",
   "execution_count": 23,
   "metadata": {
    "collapsed": true
   },
   "outputs": [],
   "source": [
    "test_set['Sentiment'] = model.predict(x_test)\n",
    "test_set[['Sentiment']].to_csv('ans.csv')"
   ]
  },
  {
   "cell_type": "code",
   "execution_count": null,
   "metadata": {
    "collapsed": true
   },
   "outputs": [],
   "source": []
  }
 ],
 "metadata": {
  "anaconda-cloud": {},
  "kernelspec": {
   "display_name": "Python [conda env:py35]",
   "language": "python",
   "name": "conda-env-py35-py"
  },
  "language_info": {
   "codemirror_mode": {
    "name": "ipython",
    "version": 3
   },
   "file_extension": ".py",
   "mimetype": "text/x-python",
   "name": "python",
   "nbconvert_exporter": "python",
   "pygments_lexer": "ipython3",
   "version": "3.5.2"
  }
 },
 "nbformat": 4,
 "nbformat_minor": 2
}
