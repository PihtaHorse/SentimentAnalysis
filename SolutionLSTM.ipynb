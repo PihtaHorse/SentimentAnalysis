{
 "cells": [
  {
   "cell_type": "code",
   "execution_count": 1,
   "metadata": {},
   "outputs": [
    {
     "name": "stderr",
     "output_type": "stream",
     "text": [
      "Using Theano backend.\n",
      "Using cuDNN version 5110 on context None\n",
      "Mapped name None to device cuda: GeForce GTX 1080 (0000:01:00.0)\n"
     ]
    }
   ],
   "source": [
    "import pandas as pd\n",
    "import numpy as np\n",
    "import os\n",
    "\n",
    "from sklearn.feature_extraction.text import CountVectorizer, TfidfVectorizer\n",
    "from nltk.corpus import stopwords\n",
    "\n",
    "from scipy.sparse import hstack, vstack, csr_matrix\n",
    "from sklearn import preprocessing\n",
    "\n",
    "from keras_tqdm import TQDMNotebookCallback, TQDMCallback\n",
    "from keras.models import Sequential\n",
    "from keras.layers import Dense, Dropout\n",
    "from keras.layers import LSTM, Embedding, GRU\n",
    "from keras.callbacks import ModelCheckpoint, EarlyStopping\n",
    "from keras.utils import np_utils\n",
    "from keras.preprocessing import sequence\n",
    "from keras.layers.normalization import BatchNormalization\n",
    "\n",
    "\n",
    "from sklearn import linear_model\n",
    "from sklearn.naive_bayes import MultinomialNB, GaussianNB\n",
    "from sklearn.linear_model import LogisticRegression\n",
    "from sklearn import svm\n",
    "\n",
    "from sklearn.metrics import mean_squared_error, accuracy_score\n",
    "from sklearn.model_selection import train_test_split, cross_val_score\n",
    "from sklearn.decomposition import PCA\n",
    "\n",
    "import gensim\n",
    "from gensim.models import Word2Vec\n",
    "\n",
    "import re\n",
    "import pymorphy2\n",
    "import nltk\n",
    "from nltk.tokenize import word_tokenize\n",
    "from nltk.corpus import stopwords\n",
    "import spacy\n",
    "\n",
    "from multiprocessing import Pool"
   ]
  },
  {
   "cell_type": "code",
   "execution_count": 2,
   "metadata": {},
   "outputs": [],
   "source": [
    "import matplotlib\n",
    "from matplotlib import rc\n",
    "import matplotlib.pyplot as plt\n",
    "\n",
    "#font = {'family': 'Verdana', 'weight': 'normal'}\n",
    "#rc('font', **font)\n",
    "matplotlib.style.use('ggplot')\n",
    "\n",
    "%matplotlib inline\n",
    "\n",
    "pd.set_option('display.max_rows', 15)"
   ]
  },
  {
   "cell_type": "code",
   "execution_count": 3,
   "metadata": {
    "collapsed": true
   },
   "outputs": [],
   "source": [
    "#spacy.util.set_data_path('/home/data/spacy/en-1.1.0')\n",
    "#spacy.util.set_data_path('/home/data/spacy/en_glove_cc_300_1m_vectors-1.0.0')\n",
    "nlp = spacy.load('en')"
   ]
  },
  {
   "cell_type": "markdown",
   "metadata": {},
   "source": [
    "# Загрузка данных"
   ]
  },
  {
   "cell_type": "code",
   "execution_count": 4,
   "metadata": {},
   "outputs": [],
   "source": [
    "train_set = pd.read_table('/home/data/shad-yelp-sentiment-analysis/train.data', index_col=0)\n",
    "test_set = pd.read_table('/home/data/shad-yelp-sentiment-analysis/test.data', index_col=0)"
   ]
  },
  {
   "cell_type": "code",
   "execution_count": 5,
   "metadata": {},
   "outputs": [
    {
     "data": {
      "image/png": "[encoded data removed]",
      "text/plain": [
       "<matplotlib.figure.Figure at 0x7f0fb4b089b0>"
      ]
     },
     "metadata": {},
     "output_type": "display_data"
    }
   ],
   "source": [
    "train_set.hist(column='Sentiment', bins=5, figsize=(12, 6))\n",
    "plt.show()"
   ]
  },
  {
   "cell_type": "code",
   "execution_count": 6,
   "metadata": {},
   "outputs": [],
   "source": [
    "Y_train = train_set['Sentiment']\n",
    "Y_train_categorical = np_utils.to_categorical(Y_train)[:, 1:]"
   ]
  },
  {
   "cell_type": "code",
   "execution_count": 7,
   "metadata": {},
   "outputs": [
    {
     "data": {
      "text/plain": [
       "1     8457\n",
       "2    10798\n",
       "3    17340\n",
       "4    35432\n",
       "5    30517\n",
       "Name: Sentiment, dtype: int64"
      ]
     },
     "execution_count": 7,
     "metadata": {},
     "output_type": "execute_result"
    }
   ],
   "source": [
    "Y_train_counts = train_set['Sentiment'].value_counts()[[1, 2, 3, 4, 5]]\n",
    "Y_train_counts"
   ]
  },
  {
   "cell_type": "code",
   "execution_count": 8,
   "metadata": {},
   "outputs": [
    {
     "data": {
      "text/plain": [
       "array([ 0.08247191,  0.10530114,  0.16909814,  0.34552972,  0.29759908])"
      ]
     },
     "execution_count": 8,
     "metadata": {},
     "output_type": "execute_result"
    }
   ],
   "source": [
    "Y_train_percents = Y_train_counts/Y_train.size\n",
    "Y_train_percents = Y_train_percents.values\n",
    "Y_train_percents"
   ]
  },
  {
   "cell_type": "markdown",
   "metadata": {},
   "source": [
    "# Data Preparation"
   ]
  },
  {
   "cell_type": "markdown",
   "metadata": {},
   "source": [
    "## Tokenization"
   ]
  },
  {
   "cell_type": "markdown",
   "metadata": {},
   "source": [
    "### Spacy.io"
   ]
  },
  {
   "cell_type": "code",
   "execution_count": 9,
   "metadata": {
    "collapsed": true
   },
   "outputs": [],
   "source": [
    "def remove_character_from_string(s, old_characters_list=['\\n', '\\t'], new_characters_list=None):\n",
    "    if not new_characters_list:\n",
    "        new_characters_list = [' ']*len(old_characters_list)\n",
    "        \n",
    "    for old_c, new_c in zip(old_characters_list, new_characters_list):\n",
    "        s = s.replace(old_c, new_c)\n",
    "        \n",
    "    return s\n",
    "\n",
    "def remove_extra_spaces(s):\n",
    "    return ' '.join( s.split() )"
   ]
  },
  {
   "cell_type": "code",
   "execution_count": 10,
   "metadata": {},
   "outputs": [],
   "source": [
    "money_regex = r'\\$[0-9.,]+'\n",
    "\n",
    "def money_regex_replace(s):\n",
    "    return re.sub(money_regex, ' money_regex ', s)"
   ]
  },
  {
   "cell_type": "code",
   "execution_count": 11,
   "metadata": {},
   "outputs": [],
   "source": [
    "dots_regex = r'\\.[.]+'\n",
    "\n",
    "def dots_replace(s):\n",
    "    return re.sub(dots_regex, ' ... ', s)"
   ]
  },
  {
   "cell_type": "code",
   "execution_count": 12,
   "metadata": {
    "collapsed": true
   },
   "outputs": [],
   "source": [
    "def clear_string(s, to_lower=True):\n",
    "    s = remove_character_from_string(s, \n",
    "                                     ['\\\\n', '\\\\\"', '-', '\"', \"\\\\\", ')', '(', '/'], \n",
    "                                     [' ', ' ', ' - ', ' ', '', ' ) ', ' ( ', ' / '])\n",
    "    s = money_regex_replace(s)\n",
    "    s = dots_replace(s)\n",
    "    s = remove_extra_spaces(s)\n",
    "    s = s.lower() if to_lower else s\n",
    "    return s"
   ]
  },
  {
   "cell_type": "code",
   "execution_count": 13,
   "metadata": {
    "collapsed": true
   },
   "outputs": [],
   "source": [
    "def get_spacy_tokens_objects(s):\n",
    "    s = clear_string(s, to_lower=False)\n",
    "    return nlp(s)\n",
    "\n",
    "if 1==0:\n",
    "    train_tokenized_objects = train_set['Text'].apply(get_spacy_tokens_objects)\n",
    "    test_tokenized_objects = test_set['Text'].apply(get_spacy_tokens_objects)"
   ]
  },
  {
   "cell_type": "code",
   "execution_count": 14,
   "metadata": {},
   "outputs": [],
   "source": [
    "def text_from_spacy_tokens(tokens):\n",
    "    tokens = [token.lower_ for token in tokens]\n",
    "    #tokens = [token.lemma_ if not ((token.is_oov) or (token.lemma_ == '-PRON-')) else token.lower_ for token in tokens]\n",
    "    return ' '.join(tokens)\n",
    "\n",
    "if 1==0:\n",
    "    train_tokenized = train_tokenized_objects.apply(text_from_spacy_tokens)\n",
    "    test_tokenized = test_tokenized_objects.apply(text_from_spacy_tokens)"
   ]
  },
  {
   "cell_type": "code",
   "execution_count": 15,
   "metadata": {
    "collapsed": true
   },
   "outputs": [],
   "source": [
    "method = 'load'\n",
    "\n",
    "if method == 'store':\n",
    "    train_tokenized.to_csv('train_tokenized_lemma.csv', index='Id', header=['Sentiment'])\n",
    "    test_tokenized.to_csv('test_tokenized_lemma.csv', index='Id', header=['Sentiment'])\n",
    "    \n",
    "if method == 'load':\n",
    "    train_tokenized = pd.read_csv('train_tokenized_lemma.csv', index_col='Id', header=0)\n",
    "    test_tokenized = pd.read_csv('test_tokenized_lemma.csv', index_col='Id', header=0)\n",
    "    \n",
    "    train_tokenized = train_tokenized['Sentiment']\n",
    "    test_tokenized = test_tokenized['Sentiment']"
   ]
  },
  {
   "cell_type": "code",
   "execution_count": 16,
   "metadata": {
    "collapsed": true
   },
   "outputs": [],
   "source": [
    "def space_tokenizer(s):\n",
    "    return s.split(' ')"
   ]
  },
  {
   "cell_type": "markdown",
   "metadata": {},
   "source": [
    "# Features"
   ]
  },
  {
   "cell_type": "markdown",
   "metadata": {},
   "source": [
    "### word2vec squence"
   ]
  },
  {
   "cell_type": "code",
   "execution_count": 17,
   "metadata": {},
   "outputs": [],
   "source": [
    "def text_from_tokens_spacy(tokens):\n",
    "    tokens = [token.text for token in tokens]\n",
    "    return ' '.join(tokens)"
   ]
  },
  {
   "cell_type": "code",
   "execution_count": 18,
   "metadata": {
    "collapsed": true
   },
   "outputs": [],
   "source": [
    "w2v_parh = os.path.join(os.sep, os.path.abspath('/home/data/word2vec/english/GoogleNews-vectors-negative300.bin'))\n",
    "w2v = gensim.models.KeyedVectors.load_word2vec_format(w2v_parh, binary=True)\n",
    "w2v.init_sims(replace=True)"
   ]
  },
  {
   "cell_type": "code",
   "execution_count": 19,
   "metadata": {},
   "outputs": [],
   "source": [
    "def tokens_sequence_embedding(words):\n",
    "    sequence = [w2v.syn0norm[w2v.vocab[word].index] for word in words.split(' ') if word in w2v.vocab]\n",
    "\n",
    "    if not sequence:\n",
    "        return np.zeros(300)\n",
    "\n",
    "    return np.concatenate(sequence)"
   ]
  },
  {
   "cell_type": "markdown",
   "metadata": {},
   "source": [
    "#### Множества(train, test, validation)"
   ]
  },
  {
   "cell_type": "code",
   "execution_count": 20,
   "metadata": {
    "collapsed": true
   },
   "outputs": [],
   "source": [
    "train_features = train_tokenized.values\n",
    "test_features = test_tokenized.values"
   ]
  },
  {
   "cell_type": "code",
   "execution_count": 21,
   "metadata": {},
   "outputs": [],
   "source": [
    "x_train, x_validation, y_train, y_validation = train_test_split(train_features, Y_train_categorical,\n",
    "                                                                test_size=0.1, random_state=42)\n",
    "\n",
    "x_test = test_features"
   ]
  },
  {
   "cell_type": "markdown",
   "metadata": {},
   "source": [
    "# Models"
   ]
  },
  {
   "cell_type": "markdown",
   "metadata": {},
   "source": [
    "### GRU without Embending layer"
   ]
  },
  {
   "cell_type": "markdown",
   "metadata": {},
   "source": [
    "### batch_generator"
   ]
  },
  {
   "cell_type": "code",
   "execution_count": 22,
   "metadata": {
    "collapsed": true
   },
   "outputs": [],
   "source": [
    "batch_size, timesteps, data_dim = 64, 500, 300\n",
    "\n",
    "def pad_or_truncate(a, n):\n",
    "    if len(a)<n:\n",
    "        a = np.lib.pad(a, (n-len(a), 0), mode='constant', constant_values=0)\n",
    "    if len(a)>n:\n",
    "        a = a[:n]\n",
    "    return a.reshape((timesteps, data_dim))\n",
    "\n",
    "def batch_to_sequence(texts):\n",
    "    result = [tokens_sequence_embedding(text) for text in texts]\n",
    "    result = np.array([pad_or_truncate(l, data_dim*timesteps) for l in result])\n",
    "    return result"
   ]
  },
  {
   "cell_type": "code",
   "execution_count": 23,
   "metadata": {
    "collapsed": true
   },
   "outputs": [],
   "source": [
    "def batch_generator(X, Y, batch_size, shuffle=False):\n",
    "    number_of_batches, counter, shuffle_index = X.shape[0]//batch_size, 0, np.arange(Y.shape[0])\n",
    "    \n",
    "    if shuffle:\n",
    "        np.random.shuffle(shuffle_index)\n",
    "    \n",
    "    X, Y =  X[shuffle_index], Y[shuffle_index]\n",
    "    \n",
    "    while True:\n",
    "        index_batch = shuffle_index[batch_size*counter:batch_size*(counter+1)]\n",
    "        X_batch, Y_batch = X[index_batch], Y[index_batch]\n",
    "        counter += 1\n",
    "        yield batch_to_sequence(X_batch), Y_batch\n",
    "        \n",
    "        if counter == number_of_batches:\n",
    "            if shuffle:\n",
    "                np.random.shuffle(shuffle_index)\n",
    "            counter=0"
   ]
  },
  {
   "cell_type": "markdown",
   "metadata": {},
   "source": [
    "### model"
   ]
  },
  {
   "cell_type": "code",
   "execution_count": 24,
   "metadata": {},
   "outputs": [],
   "source": [
    "histories = []\n",
    "\n",
    "def get_nn_model(*, path_to_hdf5=False, input_dim=None):\n",
    "    input_dim = x_train.shape[1] if not input_dim else input_dim\n",
    "    \n",
    "    # Create model\n",
    "    model = Sequential()\n",
    "    model.add(GRU(300, recurrent_dropout=0.2, dropout=0.2, input_shape=input_dim))\n",
    "    model.add(Dense(5, kernel_initializer='he_normal', activation='softmax'))\n",
    "\n",
    "    # Compile model\n",
    "    model.compile(loss='categorical_crossentropy', optimizer='adam', metrics=['accuracy'])\n",
    "    \n",
    "    # load pretrained weights\n",
    "    if path_to_hdf5:\n",
    "        model.load_weights(path_to_hdf5)\n",
    "\n",
    "    print(model.summary())\n",
    "    return model\n",
    "\n",
    "filepath=\"GRU_weights_{epoch:02d}_{val_acc:.3f}.hdf5\"\n",
    "checkpoint = ModelCheckpoint(filepath, monitor='val_acc', verbose=1, save_best_only=True, mode='max')\n",
    "early_stopping = EarlyStopping(monitor='val_acc', patience=10, mode='max')\n",
    "callbacks_list = [checkpoint, early_stopping, TQDMNotebookCallback()]"
   ]
  },
  {
   "cell_type": "markdown",
   "metadata": {},
   "source": [
    "### Training"
   ]
  },
  {
   "cell_type": "code",
   "execution_count": 25,
   "metadata": {
    "collapsed": true
   },
   "outputs": [
    {
     "name": "stdout",
     "output_type": "stream",
     "text": [
      "_________________________________________________________________\n",
      "Layer (type)                 Output Shape              Param #   \n",
      "=================================================================\n",
      "gru_1 (GRU)                  (None, 300)               540900    \n",
      "_________________________________________________________________\n",
      "dense_1 (Dense)              (None, 5)                 1505      \n",
      "=================================================================\n",
      "Total params: 542,405.0\n",
      "Trainable params: 542,405\n",
      "Non-trainable params: 0.0\n",
      "_________________________________________________________________\n",
      "None\n"
     ]
    },
    {
     "name": "stderr",
     "output_type": "stream",
     "text": [
      "The installed widget Javascript is the wrong version.\n",
      "The installed widget Javascript is the wrong version.\n"
     ]
    },
    {
     "name": "stdout",
     "output_type": "stream",
     "text": [
      "Epoch 1/1000\n",
      "Epoch 00000: val_acc improved from -inf to 0.38635, saving model to GRU_weights_00_0.386.hdf5\n",
      "103s - loss: 1.4313 - acc: 0.3589 - val_loss: 1.3715 - val_acc: 0.3864\n",
      "Epoch 2/1000\n"
     ]
    },
    {
     "name": "stderr",
     "output_type": "stream",
     "text": [
      "The installed widget Javascript is the wrong version.\n"
     ]
    },
    {
     "name": "stdout",
     "output_type": "stream",
     "text": [
      "Epoch 00001: val_acc improved from 0.38635 to 0.50702, saving model to GRU_weights_01_0.507.hdf5\n",
      "103s - loss: 1.2789 - acc: 0.4234 - val_loss: 1.1316 - val_acc: 0.5070\n",
      "Epoch 3/1000\n"
     ]
    },
    {
     "name": "stderr",
     "output_type": "stream",
     "text": [
      "The installed widget Javascript is the wrong version.\n"
     ]
    },
    {
     "name": "stdout",
     "output_type": "stream",
     "text": [
      "Epoch 00002: val_acc improved from 0.50702 to 0.54199, saving model to GRU_weights_02_0.542.hdf5\n",
      "104s - loss: 1.0857 - acc: 0.5181 - val_loss: 1.0127 - val_acc: 0.5420\n",
      "Epoch 4/1000\n"
     ]
    },
    {
     "name": "stderr",
     "output_type": "stream",
     "text": [
      "The installed widget Javascript is the wrong version.\n"
     ]
    },
    {
     "name": "stdout",
     "output_type": "stream",
     "text": [
      "Epoch 00003: val_acc improved from 0.54199 to 0.56055, saving model to GRU_weights_03_0.561.hdf5\n",
      "104s - loss: 1.0427 - acc: 0.5266 - val_loss: 0.9783 - val_acc: 0.5605\n",
      "Epoch 5/1000\n"
     ]
    },
    {
     "name": "stderr",
     "output_type": "stream",
     "text": [
      "The installed widget Javascript is the wrong version.\n"
     ]
    },
    {
     "name": "stdout",
     "output_type": "stream",
     "text": [
      "Epoch 00004: val_acc did not improve\n",
      "104s - loss: 1.0148 - acc: 0.5417 - val_loss: 0.9777 - val_acc: 0.5568\n",
      "Epoch 6/1000\n"
     ]
    },
    {
     "name": "stderr",
     "output_type": "stream",
     "text": [
      "The installed widget Javascript is the wrong version.\n"
     ]
    },
    {
     "name": "stdout",
     "output_type": "stream",
     "text": [
      "Epoch 00005: val_acc improved from 0.56055 to 0.56641, saving model to GRU_weights_05_0.566.hdf5\n",
      "104s - loss: 0.9861 - acc: 0.5549 - val_loss: 0.9515 - val_acc: 0.5664\n",
      "Epoch 7/1000\n"
     ]
    },
    {
     "name": "stderr",
     "output_type": "stream",
     "text": [
      "The installed widget Javascript is the wrong version.\n"
     ]
    },
    {
     "name": "stdout",
     "output_type": "stream",
     "text": [
      "Epoch 00006: val_acc improved from 0.56641 to 0.58289, saving model to GRU_weights_06_0.583.hdf5\n",
      "105s - loss: 0.9608 - acc: 0.5712 - val_loss: 0.9402 - val_acc: 0.5829\n",
      "Epoch 8/1000\n"
     ]
    },
    {
     "name": "stderr",
     "output_type": "stream",
     "text": [
      "The installed widget Javascript is the wrong version.\n"
     ]
    },
    {
     "name": "stdout",
     "output_type": "stream",
     "text": [
      "Epoch 00007: val_acc did not improve\n",
      "106s - loss: 0.9654 - acc: 0.5649 - val_loss: 0.9366 - val_acc: 0.5775\n",
      "Epoch 9/1000\n"
     ]
    },
    {
     "name": "stderr",
     "output_type": "stream",
     "text": [
      "The installed widget Javascript is the wrong version.\n"
     ]
    },
    {
     "name": "stdout",
     "output_type": "stream",
     "text": [
      "Epoch 00008: val_acc improved from 0.58289 to 0.58423, saving model to GRU_weights_08_0.584.hdf5\n",
      "105s - loss: 0.9495 - acc: 0.5746 - val_loss: 0.9253 - val_acc: 0.5842\n",
      "Epoch 10/1000\n"
     ]
    },
    {
     "name": "stderr",
     "output_type": "stream",
     "text": [
      "The installed widget Javascript is the wrong version.\n"
     ]
    },
    {
     "name": "stdout",
     "output_type": "stream",
     "text": [
      "Epoch 00009: val_acc improved from 0.58423 to 0.58960, saving model to GRU_weights_09_0.590.hdf5\n",
      "105s - loss: 0.9388 - acc: 0.5768 - val_loss: 0.9084 - val_acc: 0.5896\n",
      "Epoch 11/1000\n"
     ]
    },
    {
     "name": "stderr",
     "output_type": "stream",
     "text": [
      "The installed widget Javascript is the wrong version.\n"
     ]
    },
    {
     "name": "stdout",
     "output_type": "stream",
     "text": [
      "Epoch 00010: val_acc improved from 0.58960 to 0.59418, saving model to GRU_weights_10_0.594.hdf5\n",
      "105s - loss: 0.9295 - acc: 0.5845 - val_loss: 0.8989 - val_acc: 0.5942\n",
      "Epoch 12/1000\n"
     ]
    },
    {
     "name": "stderr",
     "output_type": "stream",
     "text": [
      "The installed widget Javascript is the wrong version.\n"
     ]
    },
    {
     "name": "stdout",
     "output_type": "stream",
     "text": [
      "Epoch 00011: val_acc improved from 0.59418 to 0.59991, saving model to GRU_weights_11_0.600.hdf5\n",
      "122s - loss: 0.9146 - acc: 0.5892 - val_loss: 0.8922 - val_acc: 0.5999\n",
      "Epoch 13/1000\n"
     ]
    },
    {
     "name": "stderr",
     "output_type": "stream",
     "text": [
      "The installed widget Javascript is the wrong version.\n"
     ]
    },
    {
     "name": "stdout",
     "output_type": "stream",
     "text": [
      "Epoch 00012: val_acc did not improve\n",
      "116s - loss: 0.9050 - acc: 0.5959 - val_loss: 0.8987 - val_acc: 0.5966\n",
      "Epoch 14/1000\n"
     ]
    },
    {
     "name": "stderr",
     "output_type": "stream",
     "text": [
      "The installed widget Javascript is the wrong version.\n"
     ]
    },
    {
     "name": "stdout",
     "output_type": "stream",
     "text": [
      "Epoch 00013: val_acc improved from 0.59991 to 0.60034, saving model to GRU_weights_13_0.600.hdf5\n",
      "105s - loss: 0.9104 - acc: 0.5892 - val_loss: 0.8806 - val_acc: 0.6003\n",
      "Epoch 15/1000\n"
     ]
    },
    {
     "name": "stderr",
     "output_type": "stream",
     "text": [
      "The installed widget Javascript is the wrong version.\n"
     ]
    },
    {
     "name": "stdout",
     "output_type": "stream",
     "text": [
      "Epoch 00014: val_acc did not improve\n",
      "106s - loss: 0.8997 - acc: 0.5975 - val_loss: 0.8859 - val_acc: 0.5979\n",
      "Epoch 16/1000\n"
     ]
    },
    {
     "name": "stderr",
     "output_type": "stream",
     "text": [
      "The installed widget Javascript is the wrong version.\n"
     ]
    },
    {
     "name": "stdout",
     "output_type": "stream",
     "text": [
      "Epoch 00015: val_acc improved from 0.60034 to 0.60077, saving model to GRU_weights_15_0.601.hdf5\n",
      "107s - loss: 0.8984 - acc: 0.5945 - val_loss: 0.8869 - val_acc: 0.6008\n",
      "Epoch 17/1000\n"
     ]
    },
    {
     "name": "stderr",
     "output_type": "stream",
     "text": [
      "The installed widget Javascript is the wrong version.\n"
     ]
    },
    {
     "name": "stdout",
     "output_type": "stream",
     "text": [
      "Epoch 00016: val_acc improved from 0.60077 to 0.60144, saving model to GRU_weights_16_0.601.hdf5\n",
      "106s - loss: 0.8879 - acc: 0.6031 - val_loss: 0.8720 - val_acc: 0.6014\n",
      "Epoch 18/1000\n"
     ]
    },
    {
     "name": "stderr",
     "output_type": "stream",
     "text": [
      "The installed widget Javascript is the wrong version.\n"
     ]
    },
    {
     "name": "stdout",
     "output_type": "stream",
     "text": [
      "Epoch 00017: val_acc improved from 0.60144 to 0.60864, saving model to GRU_weights_17_0.609.hdf5\n",
      "111s - loss: 0.8795 - acc: 0.6091 - val_loss: 0.8670 - val_acc: 0.6086\n",
      "Epoch 19/1000\n"
     ]
    },
    {
     "name": "stderr",
     "output_type": "stream",
     "text": [
      "The installed widget Javascript is the wrong version.\n"
     ]
    },
    {
     "name": "stdout",
     "output_type": "stream",
     "text": [
      "Epoch 00018: val_acc improved from 0.60864 to 0.61200, saving model to GRU_weights_18_0.612.hdf5\n",
      "107s - loss: 0.8618 - acc: 0.6204 - val_loss: 0.8703 - val_acc: 0.6120\n",
      "Epoch 20/1000\n"
     ]
    },
    {
     "name": "stderr",
     "output_type": "stream",
     "text": [
      "The installed widget Javascript is the wrong version.\n"
     ]
    },
    {
     "name": "stdout",
     "output_type": "stream",
     "text": [
      "Epoch 00019: val_acc did not improve\n",
      "107s - loss: 0.8728 - acc: 0.6127 - val_loss: 0.8623 - val_acc: 0.6112\n",
      "Epoch 21/1000\n"
     ]
    },
    {
     "name": "stderr",
     "output_type": "stream",
     "text": [
      "The installed widget Javascript is the wrong version.\n"
     ]
    },
    {
     "name": "stdout",
     "output_type": "stream",
     "text": [
      "Epoch 00020: val_acc did not improve\n",
      "107s - loss: 0.8588 - acc: 0.6210 - val_loss: 0.8650 - val_acc: 0.6098\n",
      "Epoch 22/1000\n"
     ]
    },
    {
     "name": "stderr",
     "output_type": "stream",
     "text": [
      "The installed widget Javascript is the wrong version.\n"
     ]
    },
    {
     "name": "stdout",
     "output_type": "stream",
     "text": [
      "Epoch 00021: val_acc improved from 0.61200 to 0.61469, saving model to GRU_weights_21_0.615.hdf5\n",
      "107s - loss: 0.8659 - acc: 0.6110 - val_loss: 0.8588 - val_acc: 0.6147\n",
      "Epoch 23/1000\n"
     ]
    },
    {
     "name": "stderr",
     "output_type": "stream",
     "text": [
      "The installed widget Javascript is the wrong version.\n"
     ]
    },
    {
     "name": "stdout",
     "output_type": "stream",
     "text": [
      "Epoch 00022: val_acc improved from 0.61469 to 0.61774, saving model to GRU_weights_22_0.618.hdf5\n",
      "104s - loss: 0.8557 - acc: 0.6168 - val_loss: 0.8622 - val_acc: 0.6177\n",
      "Epoch 24/1000\n"
     ]
    },
    {
     "name": "stderr",
     "output_type": "stream",
     "text": [
      "The installed widget Javascript is the wrong version.\n"
     ]
    },
    {
     "name": "stdout",
     "output_type": "stream",
     "text": [
      "Epoch 00023: val_acc improved from 0.61774 to 0.62244, saving model to GRU_weights_23_0.622.hdf5\n",
      "103s - loss: 0.8374 - acc: 0.6251 - val_loss: 0.8482 - val_acc: 0.6224\n",
      "Epoch 25/1000\n"
     ]
    },
    {
     "name": "stderr",
     "output_type": "stream",
     "text": [
      "The installed widget Javascript is the wrong version.\n"
     ]
    },
    {
     "name": "stdout",
     "output_type": "stream",
     "text": [
      "Epoch 00024: val_acc did not improve\n",
      "104s - loss: 0.8382 - acc: 0.6297 - val_loss: 0.8466 - val_acc: 0.6180\n",
      "Epoch 26/1000\n"
     ]
    },
    {
     "name": "stderr",
     "output_type": "stream",
     "text": [
      "The installed widget Javascript is the wrong version.\n"
     ]
    },
    {
     "name": "stdout",
     "output_type": "stream",
     "text": [
      "Epoch 00025: val_acc did not improve\n",
      "107s - loss: 0.8451 - acc: 0.6230 - val_loss: 0.8641 - val_acc: 0.6143\n",
      "Epoch 27/1000\n"
     ]
    },
    {
     "name": "stderr",
     "output_type": "stream",
     "text": [
      "The installed widget Javascript is the wrong version.\n"
     ]
    },
    {
     "name": "stdout",
     "output_type": "stream",
     "text": [
      "Epoch 00026: val_acc improved from 0.62244 to 0.62830, saving model to GRU_weights_26_0.628.hdf5\n",
      "107s - loss: 0.8304 - acc: 0.6300 - val_loss: 0.8408 - val_acc: 0.6283\n",
      "Epoch 28/1000\n"
     ]
    },
    {
     "name": "stderr",
     "output_type": "stream",
     "text": [
      "The installed widget Javascript is the wrong version.\n"
     ]
    },
    {
     "name": "stdout",
     "output_type": "stream",
     "text": [
      "Epoch 00027: val_acc did not improve\n",
      "107s - loss: 0.8393 - acc: 0.6248 - val_loss: 0.8353 - val_acc: 0.6248\n",
      "Epoch 29/1000\n"
     ]
    },
    {
     "name": "stderr",
     "output_type": "stream",
     "text": [
      "The installed widget Javascript is the wrong version.\n"
     ]
    },
    {
     "name": "stdout",
     "output_type": "stream",
     "text": [
      "Epoch 00028: val_acc did not improve\n",
      "107s - loss: 0.8111 - acc: 0.6411 - val_loss: 0.8456 - val_acc: 0.6207\n",
      "Epoch 30/1000\n"
     ]
    },
    {
     "name": "stderr",
     "output_type": "stream",
     "text": [
      "The installed widget Javascript is the wrong version.\n"
     ]
    },
    {
     "name": "stdout",
     "output_type": "stream",
     "text": [
      "Epoch 00029: val_acc did not improve\n",
      "107s - loss: 0.8065 - acc: 0.6394 - val_loss: 0.8495 - val_acc: 0.6227\n",
      "Epoch 31/1000\n"
     ]
    },
    {
     "name": "stderr",
     "output_type": "stream",
     "text": [
      "The installed widget Javascript is the wrong version.\n"
     ]
    },
    {
     "name": "stdout",
     "output_type": "stream",
     "text": [
      "Epoch 00030: val_acc did not improve\n",
      "107s - loss: 0.8068 - acc: 0.6423 - val_loss: 0.8605 - val_acc: 0.6157\n",
      "Epoch 32/1000\n"
     ]
    },
    {
     "name": "stderr",
     "output_type": "stream",
     "text": [
      "The installed widget Javascript is the wrong version.\n"
     ]
    },
    {
     "name": "stdout",
     "output_type": "stream",
     "text": [
      "Epoch 00031: val_acc improved from 0.62830 to 0.62903, saving model to GRU_weights_31_0.629.hdf5\n",
      "107s - loss: 0.8191 - acc: 0.6371 - val_loss: 0.8358 - val_acc: 0.6290\n",
      "Epoch 33/1000\n"
     ]
    },
    {
     "name": "stderr",
     "output_type": "stream",
     "text": [
      "The installed widget Javascript is the wrong version.\n"
     ]
    },
    {
     "name": "stdout",
     "output_type": "stream",
     "text": [
      "Epoch 00032: val_acc did not improve\n",
      "107s - loss: 0.8178 - acc: 0.6335 - val_loss: 0.8480 - val_acc: 0.6175\n",
      "Epoch 34/1000\n"
     ]
    },
    {
     "name": "stderr",
     "output_type": "stream",
     "text": [
      "The installed widget Javascript is the wrong version.\n"
     ]
    },
    {
     "name": "stdout",
     "output_type": "stream",
     "text": [
      "Epoch 00033: val_acc did not improve\n",
      "104s - loss: 0.8068 - acc: 0.6411 - val_loss: 0.8337 - val_acc: 0.6284\n",
      "Epoch 35/1000\n"
     ]
    },
    {
     "name": "stderr",
     "output_type": "stream",
     "text": [
      "The installed widget Javascript is the wrong version.\n"
     ]
    },
    {
     "name": "stdout",
     "output_type": "stream",
     "text": [
      "Epoch 00034: val_acc improved from 0.62903 to 0.63000, saving model to GRU_weights_34_0.630.hdf5\n",
      "104s - loss: 0.7942 - acc: 0.6415 - val_loss: 0.8349 - val_acc: 0.6300\n",
      "Epoch 36/1000\n"
     ]
    },
    {
     "name": "stderr",
     "output_type": "stream",
     "text": [
      "The installed widget Javascript is the wrong version.\n"
     ]
    },
    {
     "name": "stdout",
     "output_type": "stream",
     "text": [
      "Epoch 00035: val_acc did not improve\n",
      "104s - loss: 0.7887 - acc: 0.6550 - val_loss: 0.8328 - val_acc: 0.6296\n",
      "Epoch 37/1000\n"
     ]
    },
    {
     "name": "stderr",
     "output_type": "stream",
     "text": [
      "The installed widget Javascript is the wrong version.\n"
     ]
    },
    {
     "name": "stdout",
     "output_type": "stream",
     "text": [
      "Epoch 00036: val_acc improved from 0.63000 to 0.63123, saving model to GRU_weights_36_0.631.hdf5\n",
      "104s - loss: 0.7785 - acc: 0.6567 - val_loss: 0.8475 - val_acc: 0.6312\n",
      "Epoch 38/1000\n"
     ]
    },
    {
     "name": "stderr",
     "output_type": "stream",
     "text": [
      "The installed widget Javascript is the wrong version.\n"
     ]
    },
    {
     "name": "stdout",
     "output_type": "stream",
     "text": [
      "Epoch 00037: val_acc improved from 0.63123 to 0.63452, saving model to GRU_weights_37_0.635.hdf5\n",
      "104s - loss: 0.7886 - acc: 0.6481 - val_loss: 0.8212 - val_acc: 0.6345\n",
      "Epoch 39/1000\n"
     ]
    },
    {
     "name": "stderr",
     "output_type": "stream",
     "text": [
      "The installed widget Javascript is the wrong version.\n"
     ]
    },
    {
     "name": "stdout",
     "output_type": "stream",
     "text": [
      "Epoch 00038: val_acc did not improve\n",
      "103s - loss: 0.7867 - acc: 0.6537 - val_loss: 0.8335 - val_acc: 0.6321\n",
      "Epoch 40/1000\n"
     ]
    },
    {
     "name": "stderr",
     "output_type": "stream",
     "text": [
      "The installed widget Javascript is the wrong version.\n"
     ]
    },
    {
     "name": "stdout",
     "output_type": "stream",
     "text": [
      "Epoch 00039: val_acc did not improve\n",
      "104s - loss: 0.7610 - acc: 0.6593 - val_loss: 0.8318 - val_acc: 0.6276\n",
      "Epoch 41/1000\n"
     ]
    },
    {
     "name": "stderr",
     "output_type": "stream",
     "text": [
      "The installed widget Javascript is the wrong version.\n"
     ]
    },
    {
     "name": "stdout",
     "output_type": "stream",
     "text": [
      "Epoch 00040: val_acc did not improve\n",
      "104s - loss: 0.7578 - acc: 0.6619 - val_loss: 0.8251 - val_acc: 0.6324\n",
      "Epoch 42/1000\n"
     ]
    },
    {
     "name": "stderr",
     "output_type": "stream",
     "text": [
      "The installed widget Javascript is the wrong version.\n"
     ]
    },
    {
     "name": "stdout",
     "output_type": "stream",
     "text": [
      "Epoch 00041: val_acc improved from 0.63452 to 0.64026, saving model to GRU_weights_41_0.640.hdf5\n",
      "104s - loss: 0.7672 - acc: 0.6614 - val_loss: 0.8320 - val_acc: 0.6403\n",
      "Epoch 43/1000\n"
     ]
    },
    {
     "name": "stderr",
     "output_type": "stream",
     "text": [
      "The installed widget Javascript is the wrong version.\n"
     ]
    },
    {
     "name": "stdout",
     "output_type": "stream",
     "text": [
      "Epoch 00042: val_acc did not improve\n",
      "104s - loss: 0.7701 - acc: 0.6611 - val_loss: 0.8268 - val_acc: 0.6325\n",
      "Epoch 44/1000\n"
     ]
    },
    {
     "name": "stderr",
     "output_type": "stream",
     "text": [
      "The installed widget Javascript is the wrong version.\n"
     ]
    },
    {
     "name": "stdout",
     "output_type": "stream",
     "text": [
      "Epoch 00043: val_acc did not improve\n",
      "104s - loss: 0.7676 - acc: 0.6592 - val_loss: 0.8228 - val_acc: 0.6349\n",
      "Epoch 45/1000\n"
     ]
    },
    {
     "name": "stderr",
     "output_type": "stream",
     "text": [
      "The installed widget Javascript is the wrong version.\n"
     ]
    },
    {
     "name": "stdout",
     "output_type": "stream",
     "text": [
      "Epoch 00044: val_acc did not improve\n",
      "105s - loss: 0.7611 - acc: 0.6628 - val_loss: 0.8208 - val_acc: 0.6385\n",
      "Epoch 46/1000\n"
     ]
    },
    {
     "name": "stderr",
     "output_type": "stream",
     "text": [
      "The installed widget Javascript is the wrong version.\n"
     ]
    },
    {
     "name": "stdout",
     "output_type": "stream",
     "text": [
      "Epoch 00045: val_acc did not improve\n",
      "106s - loss: 0.7428 - acc: 0.6764 - val_loss: 0.8484 - val_acc: 0.6307\n",
      "Epoch 47/1000\n"
     ]
    },
    {
     "name": "stderr",
     "output_type": "stream",
     "text": [
      "The installed widget Javascript is the wrong version.\n"
     ]
    },
    {
     "name": "stdout",
     "output_type": "stream",
     "text": [
      "Epoch 00046: val_acc improved from 0.64026 to 0.64124, saving model to GRU_weights_46_0.641.hdf5\n",
      "107s - loss: 0.7449 - acc: 0.6724 - val_loss: 0.8308 - val_acc: 0.6412\n",
      "Epoch 48/1000\n"
     ]
    },
    {
     "name": "stderr",
     "output_type": "stream",
     "text": [
      "The installed widget Javascript is the wrong version.\n"
     ]
    },
    {
     "name": "stdout",
     "output_type": "stream",
     "text": [
      "Epoch 00047: val_acc did not improve\n",
      "107s - loss: 0.7401 - acc: 0.6728 - val_loss: 0.8360 - val_acc: 0.6329\n",
      "Epoch 49/1000\n"
     ]
    },
    {
     "name": "stderr",
     "output_type": "stream",
     "text": [
      "The installed widget Javascript is the wrong version.\n"
     ]
    },
    {
     "name": "stdout",
     "output_type": "stream",
     "text": [
      "Epoch 00048: val_acc did not improve\n",
      "107s - loss: 0.7372 - acc: 0.6777 - val_loss: 0.8247 - val_acc: 0.6307\n",
      "Epoch 50/1000\n"
     ]
    },
    {
     "name": "stderr",
     "output_type": "stream",
     "text": [
      "The installed widget Javascript is the wrong version.\n"
     ]
    },
    {
     "name": "stdout",
     "output_type": "stream",
     "text": [
      "Epoch 00049: val_acc did not improve\n",
      "107s - loss: 0.7449 - acc: 0.6695 - val_loss: 0.8251 - val_acc: 0.6336\n",
      "Epoch 51/1000\n"
     ]
    },
    {
     "name": "stderr",
     "output_type": "stream",
     "text": [
      "The installed widget Javascript is the wrong version.\n"
     ]
    },
    {
     "name": "stdout",
     "output_type": "stream",
     "text": [
      "Epoch 00050: val_acc did not improve\n",
      "106s - loss: 0.7375 - acc: 0.6746 - val_loss: 0.8234 - val_acc: 0.6389\n",
      "Epoch 52/1000\n"
     ]
    },
    {
     "name": "stderr",
     "output_type": "stream",
     "text": [
      "The installed widget Javascript is the wrong version.\n"
     ]
    },
    {
     "name": "stdout",
     "output_type": "stream",
     "text": [
      "Epoch 00051: val_acc did not improve\n",
      "107s - loss: 0.7208 - acc: 0.6812 - val_loss: 0.8328 - val_acc: 0.6325\n",
      "Epoch 53/1000\n"
     ]
    },
    {
     "name": "stderr",
     "output_type": "stream",
     "text": [
      "The installed widget Javascript is the wrong version.\n"
     ]
    },
    {
     "name": "stdout",
     "output_type": "stream",
     "text": [
      "Epoch 00052: val_acc did not improve\n",
      "107s - loss: 0.7186 - acc: 0.6802 - val_loss: 0.8224 - val_acc: 0.6380\n",
      "Epoch 54/1000\n"
     ]
    },
    {
     "name": "stderr",
     "output_type": "stream",
     "text": [
      "The installed widget Javascript is the wrong version.\n"
     ]
    },
    {
     "name": "stdout",
     "output_type": "stream",
     "text": [
      "Epoch 00053: val_acc did not improve\n",
      "105s - loss: 0.7218 - acc: 0.6821 - val_loss: 0.8320 - val_acc: 0.6362\n",
      "Epoch 55/1000\n"
     ]
    },
    {
     "name": "stderr",
     "output_type": "stream",
     "text": [
      "The installed widget Javascript is the wrong version.\n"
     ]
    },
    {
     "name": "stdout",
     "output_type": "stream",
     "text": [
      "Epoch 00054: val_acc improved from 0.64124 to 0.64343, saving model to GRU_weights_54_0.643.hdf5\n",
      "104s - loss: 0.7276 - acc: 0.6794 - val_loss: 0.8185 - val_acc: 0.6434\n",
      "Epoch 56/1000\n"
     ]
    },
    {
     "name": "stderr",
     "output_type": "stream",
     "text": [
      "The installed widget Javascript is the wrong version.\n"
     ]
    },
    {
     "name": "stdout",
     "output_type": "stream",
     "text": [
      "Epoch 00055: val_acc did not improve\n",
      "104s - loss: 0.7329 - acc: 0.6753 - val_loss: 0.8209 - val_acc: 0.6387\n",
      "Epoch 57/1000\n"
     ]
    },
    {
     "name": "stderr",
     "output_type": "stream",
     "text": [
      "The installed widget Javascript is the wrong version.\n"
     ]
    },
    {
     "name": "stdout",
     "output_type": "stream",
     "text": [
      "Epoch 00056: val_acc did not improve\n",
      "104s - loss: 0.7056 - acc: 0.6894 - val_loss: 0.8327 - val_acc: 0.6408\n",
      "Epoch 58/1000\n"
     ]
    },
    {
     "name": "stderr",
     "output_type": "stream",
     "text": [
      "The installed widget Javascript is the wrong version.\n"
     ]
    },
    {
     "name": "stdout",
     "output_type": "stream",
     "text": [
      "Epoch 00057: val_acc did not improve\n",
      "104s - loss: 0.7029 - acc: 0.6891 - val_loss: 0.8276 - val_acc: 0.6332\n",
      "Epoch 59/1000\n"
     ]
    },
    {
     "name": "stderr",
     "output_type": "stream",
     "text": [
      "The installed widget Javascript is the wrong version.\n"
     ]
    },
    {
     "name": "stdout",
     "output_type": "stream",
     "text": [
      "Epoch 00058: val_acc did not improve\n",
      "104s - loss: 0.7081 - acc: 0.6862 - val_loss: 0.8323 - val_acc: 0.6381\n",
      "Epoch 60/1000\n"
     ]
    },
    {
     "name": "stderr",
     "output_type": "stream",
     "text": [
      "The installed widget Javascript is the wrong version.\n"
     ]
    },
    {
     "name": "stdout",
     "output_type": "stream",
     "text": [
      "Epoch 00059: val_acc improved from 0.64343 to 0.64514, saving model to GRU_weights_59_0.645.hdf5\n",
      "105s - loss: 0.7078 - acc: 0.6873 - val_loss: 0.8284 - val_acc: 0.6451\n",
      "Epoch 61/1000\n"
     ]
    },
    {
     "name": "stderr",
     "output_type": "stream",
     "text": [
      "The installed widget Javascript is the wrong version.\n"
     ]
    },
    {
     "name": "stdout",
     "output_type": "stream",
     "text": [
      "Epoch 00060: val_acc did not improve\n",
      "105s - loss: 0.6968 - acc: 0.6959 - val_loss: 0.8227 - val_acc: 0.6401\n",
      "Epoch 62/1000\n"
     ]
    },
    {
     "name": "stderr",
     "output_type": "stream",
     "text": [
      "The installed widget Javascript is the wrong version.\n"
     ]
    },
    {
     "name": "stdout",
     "output_type": "stream",
     "text": [
      "Epoch 00061: val_acc did not improve\n",
      "105s - loss: 0.7196 - acc: 0.6868 - val_loss: 0.8354 - val_acc: 0.6379\n",
      "Epoch 63/1000\n"
     ]
    },
    {
     "name": "stderr",
     "output_type": "stream",
     "text": [
      "The installed widget Javascript is the wrong version.\n"
     ]
    },
    {
     "name": "stdout",
     "output_type": "stream",
     "text": [
      "Epoch 00062: val_acc did not improve\n",
      "105s - loss: 0.6723 - acc: 0.7073 - val_loss: 0.8325 - val_acc: 0.6403\n",
      "Epoch 64/1000\n"
     ]
    },
    {
     "name": "stderr",
     "output_type": "stream",
     "text": [
      "The installed widget Javascript is the wrong version.\n"
     ]
    },
    {
     "name": "stdout",
     "output_type": "stream",
     "text": [
      "Epoch 00063: val_acc did not improve\n",
      "105s - loss: 0.6805 - acc: 0.6993 - val_loss: 0.8451 - val_acc: 0.6387\n",
      "Epoch 65/1000\n"
     ]
    },
    {
     "name": "stderr",
     "output_type": "stream",
     "text": [
      "The installed widget Javascript is the wrong version.\n"
     ]
    },
    {
     "name": "stdout",
     "output_type": "stream",
     "text": [
      "Epoch 00064: val_acc did not improve\n",
      "105s - loss: 0.6876 - acc: 0.6968 - val_loss: 0.8468 - val_acc: 0.6372\n",
      "Epoch 66/1000\n"
     ]
    },
    {
     "name": "stderr",
     "output_type": "stream",
     "text": [
      "The installed widget Javascript is the wrong version.\n"
     ]
    },
    {
     "name": "stdout",
     "output_type": "stream",
     "text": [
      "Epoch 00065: val_acc did not improve\n",
      "105s - loss: 0.6947 - acc: 0.6927 - val_loss: 0.8265 - val_acc: 0.6375\n",
      "Epoch 67/1000\n"
     ]
    },
    {
     "name": "stderr",
     "output_type": "stream",
     "text": [
      "The installed widget Javascript is the wrong version.\n"
     ]
    },
    {
     "name": "stdout",
     "output_type": "stream",
     "text": [
      "Epoch 00066: val_acc did not improve\n",
      "104s - loss: 0.6888 - acc: 0.7001 - val_loss: 0.8414 - val_acc: 0.6404\n",
      "Epoch 68/1000\n"
     ]
    },
    {
     "name": "stderr",
     "output_type": "stream",
     "text": [
      "The installed widget Javascript is the wrong version.\n"
     ]
    },
    {
     "name": "stdout",
     "output_type": "stream",
     "text": [
      "Epoch 00067: val_acc did not improve\n",
      "105s - loss: 0.6869 - acc: 0.7021 - val_loss: 0.8405 - val_acc: 0.6422\n",
      "Epoch 69/1000\n"
     ]
    },
    {
     "name": "stderr",
     "output_type": "stream",
     "text": [
      "The installed widget Javascript is the wrong version.\n"
     ]
    },
    {
     "name": "stdout",
     "output_type": "stream",
     "text": [
      "Epoch 00068: val_acc did not improve\n",
      "104s - loss: 0.6690 - acc: 0.7054 - val_loss: 0.8302 - val_acc: 0.6415\n",
      "Epoch 70/1000\n"
     ]
    },
    {
     "name": "stderr",
     "output_type": "stream",
     "text": [
      "The installed widget Javascript is the wrong version.\n"
     ]
    },
    {
     "name": "stdout",
     "output_type": "stream",
     "text": [
      "Epoch 00069: val_acc did not improve\n",
      "104s - loss: 0.6657 - acc: 0.7081 - val_loss: 0.8389 - val_acc: 0.6424\n",
      "Epoch 71/1000\n"
     ]
    },
    {
     "name": "stderr",
     "output_type": "stream",
     "text": [
      "The installed widget Javascript is the wrong version.\n"
     ]
    },
    {
     "name": "stdout",
     "output_type": "stream",
     "text": [
      "Epoch 00070: val_acc did not improve\n",
      "105s - loss: 0.6644 - acc: 0.7086 - val_loss: 0.8333 - val_acc: 0.6429\n",
      "\n"
     ]
    }
   ],
   "source": [
    "steps_per_epoch = 256#batch_size*(x_train_filtred.shape[0] // batch_size)\n",
    "validation_steps = 256#batch_size*(x_validation_filtred.shape[0] // batch_size)\n",
    "input_dim=(timesteps, data_dim)\n",
    "\n",
    "y_train_categorical = y_train\n",
    "y_validation_categorical = y_validation\n",
    "\n",
    "model = get_nn_model(input_dim=input_dim)\n",
    "history = model.fit_generator(generator=batch_generator(x_train, y_train_categorical, batch_size, shuffle=True),\n",
    "                              steps_per_epoch=steps_per_epoch,\n",
    "                              validation_data=batch_generator(x_validation, y_validation_categorical,\n",
    "                                                              batch_size, shuffle=False),\n",
    "                              validation_steps=validation_steps,\n",
    "                              epochs=1000, verbose=2, callbacks=callbacks_list)"
   ]
  },
  {
   "cell_type": "raw",
   "metadata": {},
   "source": [
    "0.64339 on leaderboard"
   ]
  },
  {
   "cell_type": "markdown",
   "metadata": {},
   "source": [
    "### GRU with Dense layers"
   ]
  },
  {
   "cell_type": "markdown",
   "metadata": {},
   "source": [
    "### model"
   ]
  },
  {
   "cell_type": "code",
   "execution_count": 63,
   "metadata": {
    "collapsed": true
   },
   "outputs": [],
   "source": [
    "histories = []\n",
    "\n",
    "def get_nn_model(*, path_to_hdf5=False, input_dim=None):\n",
    "    input_dim = x_train.shape[1] if not input_dim else input_dim\n",
    "    \n",
    "    # Create model\n",
    "    model = Sequential()\n",
    "    model.add(GRU(300, recurrent_dropout=0.2, dropout=0.2, input_shape=input_dim))\n",
    "    model.add(Dense(50, kernel_initializer='he_normal', activation='sigmoid'))\n",
    "    model.add(Dense(5, kernel_initializer='he_normal', activation='softmax'))\n",
    "\n",
    "    # Compile model\n",
    "    model.compile(loss='categorical_crossentropy', optimizer='adam', metrics=['accuracy'])\n",
    "    \n",
    "    # load pretrained weights\n",
    "    if path_to_hdf5:\n",
    "        model.load_weights(path_to_hdf5)\n",
    "\n",
    "    print(model.summary())\n",
    "    return model\n",
    "\n",
    "filepath=\"GRU_Dense_weights_{epoch:02d}_{val_acc:.3f}.hdf5\"\n",
    "checkpoint = ModelCheckpoint(filepath, monitor='val_acc', verbose=1, save_best_only=True, mode='max')\n",
    "early_stopping = EarlyStopping(monitor='val_acc', patience=10, mode='max')\n",
    "callbacks_list = [checkpoint, early_stopping, TQDMNotebookCallback()]"
   ]
  },
  {
   "cell_type": "markdown",
   "metadata": {},
   "source": [
    "### Training"
   ]
  },
  {
   "cell_type": "code",
   "execution_count": 64,
   "metadata": {
    "scrolled": true
   },
   "outputs": [
    {
     "name": "stdout",
     "output_type": "stream",
     "text": [
      "_________________________________________________________________\n",
      "Layer (type)                 Output Shape              Param #   \n",
      "=================================================================\n",
      "gru_4 (GRU)                  (None, 300)               540900    \n",
      "_________________________________________________________________\n",
      "dense_4 (Dense)              (None, 50)                15050     \n",
      "_________________________________________________________________\n",
      "dense_5 (Dense)              (None, 5)                 255       \n",
      "=================================================================\n",
      "Total params: 556,205.0\n",
      "Trainable params: 556,205\n",
      "Non-trainable params: 0.0\n",
      "_________________________________________________________________\n",
      "None\n"
     ]
    },
    {
     "name": "stderr",
     "output_type": "stream",
     "text": [
      "The installed widget Javascript is the wrong version.\n",
      "The installed widget Javascript is the wrong version.\n"
     ]
    },
    {
     "name": "stdout",
     "output_type": "stream",
     "text": [
      "Epoch 1/1000\n",
      "Epoch 00000: val_acc improved from -inf to 0.54208, saving model to GRU_Dense_weights_00_0.542.hdf5\n",
      "824s - loss: 1.2240 - acc: 0.4466 - val_loss: 1.0153 - val_acc: 0.5421\n",
      "Epoch 2/1000\n"
     ]
    },
    {
     "name": "stderr",
     "output_type": "stream",
     "text": [
      "The installed widget Javascript is the wrong version.\n"
     ]
    },
    {
     "name": "stdout",
     "output_type": "stream",
     "text": [
      "Epoch 00001: val_acc improved from 0.54208 to 0.56168, saving model to GRU_Dense_weights_01_0.562.hdf5\n",
      "828s - loss: 1.0175 - acc: 0.5419 - val_loss: 0.9594 - val_acc: 0.5617\n",
      "Epoch 3/1000\n"
     ]
    },
    {
     "name": "stderr",
     "output_type": "stream",
     "text": [
      "The installed widget Javascript is the wrong version.\n"
     ]
    },
    {
     "name": "stdout",
     "output_type": "stream",
     "text": [
      "Epoch 00002: val_acc improved from 0.56168 to 0.57858, saving model to GRU_Dense_weights_02_0.579.hdf5\n",
      "831s - loss: 0.9613 - acc: 0.5689 - val_loss: 0.9217 - val_acc: 0.5786\n",
      "Epoch 4/1000\n"
     ]
    },
    {
     "name": "stderr",
     "output_type": "stream",
     "text": [
      "The installed widget Javascript is the wrong version.\n"
     ]
    },
    {
     "name": "stdout",
     "output_type": "stream",
     "text": [
      "Epoch 00003: val_acc improved from 0.57858 to 0.59253, saving model to GRU_Dense_weights_03_0.593.hdf5\n",
      "830s - loss: 0.9274 - acc: 0.5819 - val_loss: 0.9000 - val_acc: 0.5925\n",
      "Epoch 5/1000\n"
     ]
    },
    {
     "name": "stderr",
     "output_type": "stream",
     "text": [
      "The installed widget Javascript is the wrong version.\n"
     ]
    },
    {
     "name": "stdout",
     "output_type": "stream",
     "text": [
      "Epoch 00004: val_acc improved from 0.59253 to 0.59671, saving model to GRU_Dense_weights_04_0.597.hdf5\n",
      "840s - loss: 0.9012 - acc: 0.5970 - val_loss: 0.8901 - val_acc: 0.5967\n",
      "Epoch 6/1000\n"
     ]
    },
    {
     "name": "stderr",
     "output_type": "stream",
     "text": [
      "The installed widget Javascript is the wrong version.\n"
     ]
    },
    {
     "name": "stdout",
     "output_type": "stream",
     "text": [
      "Epoch 00005: val_acc improved from 0.59671 to 0.59708, saving model to GRU_Dense_weights_05_0.597.hdf5\n",
      "832s - loss: 0.8849 - acc: 0.6057 - val_loss: 0.9008 - val_acc: 0.5971\n",
      "Epoch 7/1000\n"
     ]
    },
    {
     "name": "stderr",
     "output_type": "stream",
     "text": [
      "The installed widget Javascript is the wrong version.\n"
     ]
    },
    {
     "name": "stdout",
     "output_type": "stream",
     "text": [
      "Epoch 00006: val_acc improved from 0.59708 to 0.61711, saving model to GRU_Dense_weights_06_0.617.hdf5\n",
      "831s - loss: 0.8619 - acc: 0.6160 - val_loss: 0.8555 - val_acc: 0.6171\n",
      "Epoch 8/1000\n"
     ]
    },
    {
     "name": "stderr",
     "output_type": "stream",
     "text": [
      "The installed widget Javascript is the wrong version.\n"
     ]
    },
    {
     "name": "stdout",
     "output_type": "stream",
     "text": [
      "Epoch 00007: val_acc improved from 0.61711 to 0.62036, saving model to GRU_Dense_weights_07_0.620.hdf5\n",
      "832s - loss: 0.8414 - acc: 0.6252 - val_loss: 0.8659 - val_acc: 0.6204\n",
      "Epoch 9/1000\n"
     ]
    },
    {
     "name": "stderr",
     "output_type": "stream",
     "text": [
      "The installed widget Javascript is the wrong version.\n"
     ]
    },
    {
     "name": "stdout",
     "output_type": "stream",
     "text": [
      "Epoch 00008: val_acc improved from 0.62036 to 0.62379, saving model to GRU_Dense_weights_08_0.624.hdf5\n",
      "832s - loss: 0.8266 - acc: 0.6327 - val_loss: 0.8461 - val_acc: 0.6238\n",
      "Epoch 10/1000\n"
     ]
    },
    {
     "name": "stderr",
     "output_type": "stream",
     "text": [
      "The installed widget Javascript is the wrong version.\n"
     ]
    },
    {
     "name": "stdout",
     "output_type": "stream",
     "text": [
      "Epoch 00009: val_acc improved from 0.62379 to 0.63106, saving model to GRU_Dense_weights_09_0.631.hdf5\n",
      "831s - loss: 0.8133 - acc: 0.6402 - val_loss: 0.8357 - val_acc: 0.6311\n",
      "Epoch 11/1000\n"
     ]
    },
    {
     "name": "stderr",
     "output_type": "stream",
     "text": [
      "The installed widget Javascript is the wrong version.\n"
     ]
    },
    {
     "name": "stdout",
     "output_type": "stream",
     "text": [
      "Epoch 00010: val_acc did not improve\n",
      "832s - loss: 0.7934 - acc: 0.6476 - val_loss: 0.8479 - val_acc: 0.6268\n",
      "Epoch 12/1000\n"
     ]
    },
    {
     "name": "stderr",
     "output_type": "stream",
     "text": [
      "The installed widget Javascript is the wrong version.\n"
     ]
    },
    {
     "name": "stdout",
     "output_type": "stream",
     "text": [
      "Epoch 00011: val_acc improved from 0.63106 to 0.63390, saving model to GRU_Dense_weights_11_0.634.hdf5\n",
      "832s - loss: 0.7768 - acc: 0.6582 - val_loss: 0.8299 - val_acc: 0.6339\n",
      "Epoch 13/1000\n"
     ]
    },
    {
     "name": "stderr",
     "output_type": "stream",
     "text": [
      "The installed widget Javascript is the wrong version.\n"
     ]
    },
    {
     "name": "stdout",
     "output_type": "stream",
     "text": [
      "Epoch 00012: val_acc did not improve\n",
      "829s - loss: 0.7662 - acc: 0.6640 - val_loss: 0.8378 - val_acc: 0.6302\n",
      "Epoch 14/1000\n"
     ]
    },
    {
     "name": "stderr",
     "output_type": "stream",
     "text": [
      "The installed widget Javascript is the wrong version.\n"
     ]
    },
    {
     "name": "stdout",
     "output_type": "stream",
     "text": [
      "Epoch 00013: val_acc did not improve\n",
      "827s - loss: 0.7561 - acc: 0.6680 - val_loss: 0.8331 - val_acc: 0.6320\n",
      "Epoch 15/1000\n"
     ]
    },
    {
     "name": "stderr",
     "output_type": "stream",
     "text": [
      "The installed widget Javascript is the wrong version.\n"
     ]
    },
    {
     "name": "stdout",
     "output_type": "stream",
     "text": [
      "Epoch 00014: val_acc improved from 0.63390 to 0.63405, saving model to GRU_Dense_weights_14_0.634.hdf5\n",
      "864s - loss: 0.7291 - acc: 0.6793 - val_loss: 0.8315 - val_acc: 0.6340\n",
      "Epoch 16/1000\n"
     ]
    },
    {
     "name": "stderr",
     "output_type": "stream",
     "text": [
      "The installed widget Javascript is the wrong version.\n"
     ]
    },
    {
     "name": "stdout",
     "output_type": "stream",
     "text": [
      "Epoch 00015: val_acc did not improve\n",
      "903s - loss: 0.7217 - acc: 0.6823 - val_loss: 0.8418 - val_acc: 0.6340\n",
      "Epoch 17/1000\n"
     ]
    },
    {
     "name": "stderr",
     "output_type": "stream",
     "text": [
      "The installed widget Javascript is the wrong version.\n"
     ]
    },
    {
     "name": "stdout",
     "output_type": "stream",
     "text": [
      "Epoch 00016: val_acc improved from 0.63405 to 0.63535, saving model to GRU_Dense_weights_16_0.635.hdf5\n",
      "843s - loss: 0.7165 - acc: 0.6856 - val_loss: 0.8346 - val_acc: 0.6353\n",
      "Epoch 18/1000\n"
     ]
    },
    {
     "name": "stderr",
     "output_type": "stream",
     "text": [
      "The installed widget Javascript is the wrong version.\n"
     ]
    },
    {
     "name": "stdout",
     "output_type": "stream",
     "text": [
      "Epoch 00017: val_acc improved from 0.63535 to 0.64047, saving model to GRU_Dense_weights_17_0.640.hdf5\n",
      "832s - loss: 0.6918 - acc: 0.6982 - val_loss: 0.8324 - val_acc: 0.6405\n",
      "Epoch 19/1000\n"
     ]
    },
    {
     "name": "stderr",
     "output_type": "stream",
     "text": [
      "The installed widget Javascript is the wrong version.\n"
     ]
    },
    {
     "name": "stdout",
     "output_type": "stream",
     "text": [
      "Epoch 00018: val_acc did not improve\n",
      "832s - loss: 0.6831 - acc: 0.7020 - val_loss: 0.8366 - val_acc: 0.6360\n",
      "Epoch 20/1000\n"
     ]
    },
    {
     "name": "stderr",
     "output_type": "stream",
     "text": [
      "The installed widget Javascript is the wrong version.\n"
     ]
    },
    {
     "name": "stdout",
     "output_type": "stream",
     "text": [
      "Epoch 00019: val_acc did not improve\n",
      "834s - loss: 0.6718 - acc: 0.7059 - val_loss: 0.8619 - val_acc: 0.6315\n",
      "Epoch 21/1000\n"
     ]
    },
    {
     "name": "stderr",
     "output_type": "stream",
     "text": [
      "The installed widget Javascript is the wrong version.\n"
     ]
    },
    {
     "name": "stdout",
     "output_type": "stream",
     "text": [
      "Epoch 00020: val_acc did not improve\n",
      "835s - loss: 0.6611 - acc: 0.7142 - val_loss: 0.8495 - val_acc: 0.6359\n",
      "Epoch 22/1000\n"
     ]
    },
    {
     "name": "stderr",
     "output_type": "stream",
     "text": [
      "The installed widget Javascript is the wrong version.\n"
     ]
    },
    {
     "name": "stdout",
     "output_type": "stream",
     "text": [
      "Epoch 00021: val_acc did not improve\n",
      "837s - loss: 0.6447 - acc: 0.7222 - val_loss: 0.8685 - val_acc: 0.6259\n",
      "Epoch 23/1000\n"
     ]
    },
    {
     "name": "stderr",
     "output_type": "stream",
     "text": [
      "The installed widget Javascript is the wrong version.\n"
     ]
    },
    {
     "name": "stdout",
     "output_type": "stream",
     "text": [
      "Epoch 00022: val_acc did not improve\n",
      "830s - loss: 0.6391 - acc: 0.7212 - val_loss: 0.8597 - val_acc: 0.6374\n",
      "Epoch 24/1000\n"
     ]
    },
    {
     "name": "stderr",
     "output_type": "stream",
     "text": [
      "The installed widget Javascript is the wrong version.\n"
     ]
    },
    {
     "name": "stdout",
     "output_type": "stream",
     "text": [
      "Epoch 00023: val_acc improved from 0.64047 to 0.64232, saving model to GRU_Dense_weights_23_0.642.hdf5\n",
      "830s - loss: 0.6346 - acc: 0.7249 - val_loss: 0.8634 - val_acc: 0.6423\n",
      "Epoch 25/1000\n"
     ]
    },
    {
     "name": "stderr",
     "output_type": "stream",
     "text": [
      "The installed widget Javascript is the wrong version.\n"
     ]
    },
    {
     "name": "stdout",
     "output_type": "stream",
     "text": [
      "Epoch 00024: val_acc did not improve\n",
      "1227s - loss: 0.6160 - acc: 0.7329 - val_loss: 0.8687 - val_acc: 0.6343\n",
      "Epoch 26/1000\n"
     ]
    },
    {
     "name": "stderr",
     "output_type": "stream",
     "text": [
      "The installed widget Javascript is the wrong version.\n"
     ]
    },
    {
     "ename": "KeyboardInterrupt",
     "evalue": "",
     "output_type": "error",
     "traceback": [
      "\u001b[0;31m---------------------------------------------------------------------------\u001b[0m",
      "\u001b[0;31mKeyboardInterrupt\u001b[0m                         Traceback (most recent call last)",
      "\u001b[0;32m<ipython-input-64-7e8c48846c8f>\u001b[0m in \u001b[0;36m<module>\u001b[0;34m()\u001b[0m\n\u001b[1;32m     12\u001b[0m                                                               batch_size, shuffle=False),\n\u001b[1;32m     13\u001b[0m                               \u001b[0mvalidation_steps\u001b[0m\u001b[0;34m=\u001b[0m\u001b[0mvalidation_steps\u001b[0m\u001b[0;34m,\u001b[0m\u001b[0;34m\u001b[0m\u001b[0m\n\u001b[0;32m---> 14\u001b[0;31m                               epochs=1000, verbose=2, callbacks=callbacks_list)\n\u001b[0m",
      "\u001b[0;32m/opt/lab/anaconda/envs/py35/lib/python3.5/site-packages/keras/legacy/interfaces.py\u001b[0m in \u001b[0;36mwrapper\u001b[0;34m(*args, **kwargs)\u001b[0m\n\u001b[1;32m     86\u001b[0m                 warnings.warn('Update your `' + object_name +\n\u001b[1;32m     87\u001b[0m                               '` call to the Keras 2 API: ' + signature, stacklevel=2)\n\u001b[0;32m---> 88\u001b[0;31m             \u001b[0;32mreturn\u001b[0m \u001b[0mfunc\u001b[0m\u001b[0;34m(\u001b[0m\u001b[0;34m*\u001b[0m\u001b[0margs\u001b[0m\u001b[0;34m,\u001b[0m \u001b[0;34m**\u001b[0m\u001b[0mkwargs\u001b[0m\u001b[0;34m)\u001b[0m\u001b[0;34m\u001b[0m\u001b[0m\n\u001b[0m\u001b[1;32m     89\u001b[0m         \u001b[0mwrapper\u001b[0m\u001b[0;34m.\u001b[0m\u001b[0m_legacy_support_signature\u001b[0m \u001b[0;34m=\u001b[0m \u001b[0minspect\u001b[0m\u001b[0;34m.\u001b[0m\u001b[0mgetargspec\u001b[0m\u001b[0;34m(\u001b[0m\u001b[0mfunc\u001b[0m\u001b[0;34m)\u001b[0m\u001b[0;34m\u001b[0m\u001b[0m\n\u001b[1;32m     90\u001b[0m         \u001b[0;32mreturn\u001b[0m \u001b[0mwrapper\u001b[0m\u001b[0;34m\u001b[0m\u001b[0m\n",
      "\u001b[0;32m/opt/lab/anaconda/envs/py35/lib/python3.5/site-packages/keras/models.py\u001b[0m in \u001b[0;36mfit_generator\u001b[0;34m(self, generator, steps_per_epoch, epochs, verbose, callbacks, validation_data, validation_steps, class_weight, max_q_size, workers, pickle_safe, initial_epoch)\u001b[0m\n\u001b[1;32m   1095\u001b[0m                                         \u001b[0mworkers\u001b[0m\u001b[0;34m=\u001b[0m\u001b[0mworkers\u001b[0m\u001b[0;34m,\u001b[0m\u001b[0;34m\u001b[0m\u001b[0m\n\u001b[1;32m   1096\u001b[0m                                         \u001b[0mpickle_safe\u001b[0m\u001b[0;34m=\u001b[0m\u001b[0mpickle_safe\u001b[0m\u001b[0;34m,\u001b[0m\u001b[0;34m\u001b[0m\u001b[0m\n\u001b[0;32m-> 1097\u001b[0;31m                                         initial_epoch=initial_epoch)\n\u001b[0m\u001b[1;32m   1098\u001b[0m \u001b[0;34m\u001b[0m\u001b[0m\n\u001b[1;32m   1099\u001b[0m     \u001b[0;34m@\u001b[0m\u001b[0minterfaces\u001b[0m\u001b[0;34m.\u001b[0m\u001b[0mlegacy_generator_methods_support\u001b[0m\u001b[0;34m\u001b[0m\u001b[0m\n",
      "\u001b[0;32m/opt/lab/anaconda/envs/py35/lib/python3.5/site-packages/keras/legacy/interfaces.py\u001b[0m in \u001b[0;36mwrapper\u001b[0;34m(*args, **kwargs)\u001b[0m\n\u001b[1;32m     86\u001b[0m                 warnings.warn('Update your `' + object_name +\n\u001b[1;32m     87\u001b[0m                               '` call to the Keras 2 API: ' + signature, stacklevel=2)\n\u001b[0;32m---> 88\u001b[0;31m             \u001b[0;32mreturn\u001b[0m \u001b[0mfunc\u001b[0m\u001b[0;34m(\u001b[0m\u001b[0;34m*\u001b[0m\u001b[0margs\u001b[0m\u001b[0;34m,\u001b[0m \u001b[0;34m**\u001b[0m\u001b[0mkwargs\u001b[0m\u001b[0;34m)\u001b[0m\u001b[0;34m\u001b[0m\u001b[0m\n\u001b[0m\u001b[1;32m     89\u001b[0m         \u001b[0mwrapper\u001b[0m\u001b[0;34m.\u001b[0m\u001b[0m_legacy_support_signature\u001b[0m \u001b[0;34m=\u001b[0m \u001b[0minspect\u001b[0m\u001b[0;34m.\u001b[0m\u001b[0mgetargspec\u001b[0m\u001b[0;34m(\u001b[0m\u001b[0mfunc\u001b[0m\u001b[0;34m)\u001b[0m\u001b[0;34m\u001b[0m\u001b[0m\n\u001b[1;32m     90\u001b[0m         \u001b[0;32mreturn\u001b[0m \u001b[0mwrapper\u001b[0m\u001b[0;34m\u001b[0m\u001b[0m\n",
      "\u001b[0;32m/opt/lab/anaconda/envs/py35/lib/python3.5/site-packages/keras/engine/training.py\u001b[0m in \u001b[0;36mfit_generator\u001b[0;34m(self, generator, steps_per_epoch, epochs, verbose, callbacks, validation_data, validation_steps, class_weight, max_q_size, workers, pickle_safe, initial_epoch)\u001b[0m\n\u001b[1;32m   1874\u001b[0m                     outs = self.train_on_batch(x, y,\n\u001b[1;32m   1875\u001b[0m                                                \u001b[0msample_weight\u001b[0m\u001b[0;34m=\u001b[0m\u001b[0msample_weight\u001b[0m\u001b[0;34m,\u001b[0m\u001b[0;34m\u001b[0m\u001b[0m\n\u001b[0;32m-> 1876\u001b[0;31m                                                class_weight=class_weight)\n\u001b[0m\u001b[1;32m   1877\u001b[0m \u001b[0;34m\u001b[0m\u001b[0m\n\u001b[1;32m   1878\u001b[0m                     \u001b[0;32mif\u001b[0m \u001b[0;32mnot\u001b[0m \u001b[0misinstance\u001b[0m\u001b[0;34m(\u001b[0m\u001b[0mouts\u001b[0m\u001b[0;34m,\u001b[0m \u001b[0mlist\u001b[0m\u001b[0;34m)\u001b[0m\u001b[0;34m:\u001b[0m\u001b[0;34m\u001b[0m\u001b[0m\n",
      "\u001b[0;32m/opt/lab/anaconda/envs/py35/lib/python3.5/site-packages/keras/engine/training.py\u001b[0m in \u001b[0;36mtrain_on_batch\u001b[0;34m(self, x, y, sample_weight, class_weight)\u001b[0m\n\u001b[1;32m   1618\u001b[0m             \u001b[0mins\u001b[0m \u001b[0;34m=\u001b[0m \u001b[0mx\u001b[0m \u001b[0;34m+\u001b[0m \u001b[0my\u001b[0m \u001b[0;34m+\u001b[0m \u001b[0msample_weights\u001b[0m\u001b[0;34m\u001b[0m\u001b[0m\n\u001b[1;32m   1619\u001b[0m         \u001b[0mself\u001b[0m\u001b[0;34m.\u001b[0m\u001b[0m_make_train_function\u001b[0m\u001b[0;34m(\u001b[0m\u001b[0;34m)\u001b[0m\u001b[0;34m\u001b[0m\u001b[0m\n\u001b[0;32m-> 1620\u001b[0;31m         \u001b[0moutputs\u001b[0m \u001b[0;34m=\u001b[0m \u001b[0mself\u001b[0m\u001b[0;34m.\u001b[0m\u001b[0mtrain_function\u001b[0m\u001b[0;34m(\u001b[0m\u001b[0mins\u001b[0m\u001b[0;34m)\u001b[0m\u001b[0;34m\u001b[0m\u001b[0m\n\u001b[0m\u001b[1;32m   1621\u001b[0m         \u001b[0;32mif\u001b[0m \u001b[0mlen\u001b[0m\u001b[0;34m(\u001b[0m\u001b[0moutputs\u001b[0m\u001b[0;34m)\u001b[0m \u001b[0;34m==\u001b[0m \u001b[0;36m1\u001b[0m\u001b[0;34m:\u001b[0m\u001b[0;34m\u001b[0m\u001b[0m\n\u001b[1;32m   1622\u001b[0m             \u001b[0;32mreturn\u001b[0m \u001b[0moutputs\u001b[0m\u001b[0;34m[\u001b[0m\u001b[0;36m0\u001b[0m\u001b[0;34m]\u001b[0m\u001b[0;34m\u001b[0m\u001b[0m\n",
      "\u001b[0;32m/opt/lab/anaconda/envs/py35/lib/python3.5/site-packages/keras/backend/theano_backend.py\u001b[0m in \u001b[0;36m__call__\u001b[0;34m(self, inputs)\u001b[0m\n\u001b[1;32m   1092\u001b[0m     \u001b[0;32mdef\u001b[0m \u001b[0m__call__\u001b[0m\u001b[0;34m(\u001b[0m\u001b[0mself\u001b[0m\u001b[0;34m,\u001b[0m \u001b[0minputs\u001b[0m\u001b[0;34m)\u001b[0m\u001b[0;34m:\u001b[0m\u001b[0;34m\u001b[0m\u001b[0m\n\u001b[1;32m   1093\u001b[0m         \u001b[0;32massert\u001b[0m \u001b[0misinstance\u001b[0m\u001b[0;34m(\u001b[0m\u001b[0minputs\u001b[0m\u001b[0;34m,\u001b[0m \u001b[0;34m(\u001b[0m\u001b[0mlist\u001b[0m\u001b[0;34m,\u001b[0m \u001b[0mtuple\u001b[0m\u001b[0;34m)\u001b[0m\u001b[0;34m)\u001b[0m\u001b[0;34m\u001b[0m\u001b[0m\n\u001b[0;32m-> 1094\u001b[0;31m         \u001b[0;32mreturn\u001b[0m \u001b[0mself\u001b[0m\u001b[0;34m.\u001b[0m\u001b[0mfunction\u001b[0m\u001b[0;34m(\u001b[0m\u001b[0;34m*\u001b[0m\u001b[0minputs\u001b[0m\u001b[0;34m)\u001b[0m\u001b[0;34m\u001b[0m\u001b[0m\n\u001b[0m\u001b[1;32m   1095\u001b[0m \u001b[0;34m\u001b[0m\u001b[0m\n\u001b[1;32m   1096\u001b[0m \u001b[0;34m\u001b[0m\u001b[0m\n",
      "\u001b[0;32m/opt/lab/anaconda/envs/py35/lib/python3.5/site-packages/theano/compile/function_module.py\u001b[0m in \u001b[0;36m__call__\u001b[0;34m(self, *args, **kwargs)\u001b[0m\n\u001b[1;32m    882\u001b[0m         \u001b[0;32mtry\u001b[0m\u001b[0;34m:\u001b[0m\u001b[0;34m\u001b[0m\u001b[0m\n\u001b[1;32m    883\u001b[0m             \u001b[0moutputs\u001b[0m \u001b[0;34m=\u001b[0m\u001b[0;31m\\\u001b[0m\u001b[0;34m\u001b[0m\u001b[0m\n\u001b[0;32m--> 884\u001b[0;31m                 \u001b[0mself\u001b[0m\u001b[0;34m.\u001b[0m\u001b[0mfn\u001b[0m\u001b[0;34m(\u001b[0m\u001b[0;34m)\u001b[0m \u001b[0;32mif\u001b[0m \u001b[0moutput_subset\u001b[0m \u001b[0;32mis\u001b[0m \u001b[0;32mNone\u001b[0m \u001b[0;32melse\u001b[0m\u001b[0;31m\\\u001b[0m\u001b[0;34m\u001b[0m\u001b[0m\n\u001b[0m\u001b[1;32m    885\u001b[0m                 \u001b[0mself\u001b[0m\u001b[0;34m.\u001b[0m\u001b[0mfn\u001b[0m\u001b[0;34m(\u001b[0m\u001b[0moutput_subset\u001b[0m\u001b[0;34m=\u001b[0m\u001b[0moutput_subset\u001b[0m\u001b[0;34m)\u001b[0m\u001b[0;34m\u001b[0m\u001b[0m\n\u001b[1;32m    886\u001b[0m         \u001b[0;32mexcept\u001b[0m \u001b[0mException\u001b[0m\u001b[0;34m:\u001b[0m\u001b[0;34m\u001b[0m\u001b[0m\n",
      "\u001b[0;32m/opt/lab/anaconda/envs/py35/lib/python3.5/site-packages/theano/scan_module/scan_op.py\u001b[0m in \u001b[0;36mrval\u001b[0;34m(p, i, o, n, allow_gc)\u001b[0m\n\u001b[1;32m    987\u001b[0m         def rval(p=p, i=node_input_storage, o=node_output_storage, n=node,\n\u001b[1;32m    988\u001b[0m                  allow_gc=allow_gc):\n\u001b[0;32m--> 989\u001b[0;31m             \u001b[0mr\u001b[0m \u001b[0;34m=\u001b[0m \u001b[0mp\u001b[0m\u001b[0;34m(\u001b[0m\u001b[0mn\u001b[0m\u001b[0;34m,\u001b[0m \u001b[0;34m[\u001b[0m\u001b[0mx\u001b[0m\u001b[0;34m[\u001b[0m\u001b[0;36m0\u001b[0m\u001b[0;34m]\u001b[0m \u001b[0;32mfor\u001b[0m \u001b[0mx\u001b[0m \u001b[0;32min\u001b[0m \u001b[0mi\u001b[0m\u001b[0;34m]\u001b[0m\u001b[0;34m,\u001b[0m \u001b[0mo\u001b[0m\u001b[0;34m)\u001b[0m\u001b[0;34m\u001b[0m\u001b[0m\n\u001b[0m\u001b[1;32m    990\u001b[0m             \u001b[0;32mfor\u001b[0m \u001b[0mo\u001b[0m \u001b[0;32min\u001b[0m \u001b[0mnode\u001b[0m\u001b[0;34m.\u001b[0m\u001b[0moutputs\u001b[0m\u001b[0;34m:\u001b[0m\u001b[0;34m\u001b[0m\u001b[0m\n\u001b[1;32m    991\u001b[0m                 \u001b[0mcompute_map\u001b[0m\u001b[0;34m[\u001b[0m\u001b[0mo\u001b[0m\u001b[0;34m]\u001b[0m\u001b[0;34m[\u001b[0m\u001b[0;36m0\u001b[0m\u001b[0;34m]\u001b[0m \u001b[0;34m=\u001b[0m \u001b[0;32mTrue\u001b[0m\u001b[0;34m\u001b[0m\u001b[0m\n",
      "\u001b[0;32m/opt/lab/anaconda/envs/py35/lib/python3.5/site-packages/theano/scan_module/scan_op.py\u001b[0m in \u001b[0;36mp\u001b[0;34m(node, args, outs)\u001b[0m\n\u001b[1;32m    976\u001b[0m                                                 \u001b[0margs\u001b[0m\u001b[0;34m,\u001b[0m\u001b[0;34m\u001b[0m\u001b[0m\n\u001b[1;32m    977\u001b[0m                                                 \u001b[0mouts\u001b[0m\u001b[0;34m,\u001b[0m\u001b[0;34m\u001b[0m\u001b[0m\n\u001b[0;32m--> 978\u001b[0;31m                                                 self, node)\n\u001b[0m\u001b[1;32m    979\u001b[0m         \u001b[0;32mexcept\u001b[0m \u001b[0;34m(\u001b[0m\u001b[0mImportError\u001b[0m\u001b[0;34m,\u001b[0m \u001b[0mtheano\u001b[0m\u001b[0;34m.\u001b[0m\u001b[0mgof\u001b[0m\u001b[0;34m.\u001b[0m\u001b[0mcmodule\u001b[0m\u001b[0;34m.\u001b[0m\u001b[0mMissingGXX\u001b[0m\u001b[0;34m)\u001b[0m\u001b[0;34m:\u001b[0m\u001b[0;34m\u001b[0m\u001b[0m\n\u001b[1;32m    980\u001b[0m             \u001b[0mp\u001b[0m \u001b[0;34m=\u001b[0m \u001b[0mself\u001b[0m\u001b[0;34m.\u001b[0m\u001b[0mexecute\u001b[0m\u001b[0;34m\u001b[0m\u001b[0m\n",
      "\u001b[0;32mtheano/scan_module/scan_perform.pyx\u001b[0m in \u001b[0;36mtheano.scan_module.scan_perform.perform (/home/e_mamul/.theano/compiledir_Linux-3.10-el7.x86_64-x86_64-with-centos-7.3.1611-Core-x86_64-3.5.2-64/scan_perform/mod.cpp:6946)\u001b[0;34m()\u001b[0m\n",
      "\u001b[0;32m/opt/lab/anaconda/envs/py35/lib/python3.5/site-packages/theano/gpuarray/type.py\u001b[0m in \u001b[0;36mvalue_zeros\u001b[0;34m(self, shape)\u001b[0m\n\u001b[1;32m    366\u001b[0m         \u001b[0;32mreturn\u001b[0m \u001b[0mpygpu\u001b[0m\u001b[0;34m.\u001b[0m\u001b[0mgpuarray\u001b[0m\u001b[0;34m.\u001b[0m\u001b[0mmay_share_memory\u001b[0m\u001b[0;34m(\u001b[0m\u001b[0ma\u001b[0m\u001b[0;34m,\u001b[0m \u001b[0mb\u001b[0m\u001b[0;34m)\u001b[0m\u001b[0;34m\u001b[0m\u001b[0m\n\u001b[1;32m    367\u001b[0m \u001b[0;34m\u001b[0m\u001b[0m\n\u001b[0;32m--> 368\u001b[0;31m     \u001b[0;32mdef\u001b[0m \u001b[0mvalue_zeros\u001b[0m\u001b[0;34m(\u001b[0m\u001b[0mself\u001b[0m\u001b[0;34m,\u001b[0m \u001b[0mshape\u001b[0m\u001b[0;34m)\u001b[0m\u001b[0;34m:\u001b[0m\u001b[0;34m\u001b[0m\u001b[0m\n\u001b[0m\u001b[1;32m    369\u001b[0m         return pygpu.gpuarray.zeros(shape, dtype=self.typecode,\n\u001b[1;32m    370\u001b[0m                                     context=self.context)\n",
      "\u001b[0;31mKeyboardInterrupt\u001b[0m: "
     ]
    }
   ],
   "source": [
    "steps_per_epoch = 1024#batch_size*(x_train_filtred.shape[0] // batch_size)\n",
    "validation_steps = 1024#batch_size*(x_validation_filtred.shape[0] // batch_size)\n",
    "input_dim=(timesteps, data_dim)\n",
    "\n",
    "y_train_categorical = y_train\n",
    "y_validation_categorical = y_validation\n",
    "\n",
    "model = get_nn_model(input_dim=input_dim)\n",
    "history = model.fit_generator(generator=batch_generator(x_train, y_train_categorical, batch_size, shuffle=True),\n",
    "                              steps_per_epoch=steps_per_epoch,\n",
    "                              validation_data=batch_generator(x_validation, y_validation_categorical,\n",
    "                                                              batch_size, shuffle=False),\n",
    "                              validation_steps=validation_steps,\n",
    "                              epochs=1000, verbose=2, callbacks=callbacks_list)"
   ]
  },
  {
   "cell_type": "markdown",
   "metadata": {},
   "source": [
    "### LSTM without Embending layer"
   ]
  },
  {
   "cell_type": "markdown",
   "metadata": {},
   "source": [
    "### model"
   ]
  },
  {
   "cell_type": "code",
   "execution_count": 58,
   "metadata": {},
   "outputs": [],
   "source": [
    "histories = []\n",
    "\n",
    "def get_nn_model(*, path_to_hdf5=False, input_dim=None):\n",
    "    input_dim = x_train.shape[1] if not input_dim else input_dim\n",
    "    \n",
    "    # Create model\n",
    "    model = Sequential()\n",
    "    model.add(LSTM(300, recurrent_dropout=0.2, dropout=0.2, batch_input_shape=input_dim))\n",
    "    model.add(Dense(5, kernel_initializer='he_normal', activation='softmax'))\n",
    "\n",
    "    # Compile model\n",
    "    model.compile(loss='categorical_crossentropy', optimizer='adam', metrics=['accuracy'])\n",
    "    \n",
    "    # load pretrained weights\n",
    "    if path_to_hdf5:\n",
    "        model.load_weights(path_to_hdf5)\n",
    "\n",
    "    print(model.summary())\n",
    "    return model\n",
    "\n",
    "filepath=\"LSTM_weights_{epoch:02d}_{val_acc:.3f}.hdf5\"\n",
    "checkpoint = ModelCheckpoint(filepath, monitor='val_acc', verbose=1, save_best_only=True, mode='max')\n",
    "early_stopping = EarlyStopping(monitor='val_acc', patience=10, mode='max')\n",
    "callbacks_list = [checkpoint, early_stopping, TQDMNotebookCallback()]"
   ]
  },
  {
   "cell_type": "markdown",
   "metadata": {},
   "source": [
    "### Training"
   ]
  },
  {
   "cell_type": "code",
   "execution_count": 59,
   "metadata": {
    "collapsed": true
   },
   "outputs": [],
   "source": [
    "steps_per_epoch = 256#batch_size*(x_train_filtred.shape[0] // batch_size)\n",
    "validation_steps = 256#batch_size*(x_validation_filtred.shape[0] // batch_size)\n",
    "input_dim=(batch_size, timesteps, data_dim)\n",
    "\n",
    "y_train_categorical = y_train\n",
    "y_validation_categorical = y_validation"
   ]
  },
  {
   "cell_type": "code",
   "execution_count": null,
   "metadata": {},
   "outputs": [
    {
     "name": "stdout",
     "output_type": "stream",
     "text": [
      "_________________________________________________________________\n",
      "Layer (type)                 Output Shape              Param #   \n",
      "=================================================================\n",
      "lstm_1 (LSTM)                (64, 300)                 721200    \n",
      "_________________________________________________________________\n",
      "dense_7 (Dense)              (64, 5)                   1505      \n",
      "=================================================================\n",
      "Total params: 722,705.0\n",
      "Trainable params: 722,705\n",
      "Non-trainable params: 0.0\n",
      "_________________________________________________________________\n",
      "None\n"
     ]
    },
    {
     "name": "stderr",
     "output_type": "stream",
     "text": [
      "The installed widget Javascript is the wrong version.\n",
      "The installed widget Javascript is the wrong version.\n"
     ]
    },
    {
     "name": "stdout",
     "output_type": "stream",
     "text": [
      "Epoch 1/1000\n",
      "Epoch 00000: val_acc improved from -inf to 0.39417, saving model to GRU_weights_00_0.394.hdf5\n",
      "132s - loss: 1.4324 - acc: 0.3561 - val_loss: 1.3082 - val_acc: 0.3942\n",
      "Epoch 2/1000\n"
     ]
    },
    {
     "name": "stderr",
     "output_type": "stream",
     "text": [
      "The installed widget Javascript is the wrong version.\n"
     ]
    },
    {
     "name": "stdout",
     "output_type": "stream",
     "text": [
      "Epoch 00001: val_acc improved from 0.39417 to 0.43250, saving model to GRU_weights_01_0.432.hdf5\n",
      "133s - loss: 1.3662 - acc: 0.3872 - val_loss: 1.2504 - val_acc: 0.4325\n",
      "Epoch 3/1000\n"
     ]
    },
    {
     "name": "stderr",
     "output_type": "stream",
     "text": [
      "The installed widget Javascript is the wrong version.\n"
     ]
    },
    {
     "name": "stdout",
     "output_type": "stream",
     "text": [
      "Epoch 00002: val_acc did not improve\n",
      "133s - loss: 1.3146 - acc: 0.4064 - val_loss: 1.2717 - val_acc: 0.4313\n",
      "Epoch 4/1000\n"
     ]
    },
    {
     "name": "stderr",
     "output_type": "stream",
     "text": [
      "The installed widget Javascript is the wrong version.\n"
     ]
    },
    {
     "name": "stdout",
     "output_type": "stream",
     "text": [
      "Epoch 00003: val_acc did not improve\n",
      "133s - loss: 1.3290 - acc: 0.4036 - val_loss: 1.3269 - val_acc: 0.3870\n",
      "Epoch 5/1000\n"
     ]
    },
    {
     "name": "stderr",
     "output_type": "stream",
     "text": [
      "The installed widget Javascript is the wrong version.\n"
     ]
    },
    {
     "name": "stdout",
     "output_type": "stream",
     "text": [
      "Epoch 00004: val_acc improved from 0.43250 to 0.43750, saving model to GRU_weights_04_0.438.hdf5\n",
      "133s - loss: 1.3075 - acc: 0.4102 - val_loss: 1.2225 - val_acc: 0.4375\n",
      "Epoch 6/1000\n"
     ]
    },
    {
     "name": "stderr",
     "output_type": "stream",
     "text": [
      "The installed widget Javascript is the wrong version.\n"
     ]
    },
    {
     "name": "stdout",
     "output_type": "stream",
     "text": [
      "Epoch 00005: val_acc improved from 0.43750 to 0.43817, saving model to GRU_weights_05_0.438.hdf5\n",
      "133s - loss: 1.2572 - acc: 0.4299 - val_loss: 1.2166 - val_acc: 0.4382\n",
      "Epoch 7/1000\n"
     ]
    },
    {
     "name": "stderr",
     "output_type": "stream",
     "text": [
      "The installed widget Javascript is the wrong version.\n"
     ]
    },
    {
     "name": "stdout",
     "output_type": "stream",
     "text": [
      "Epoch 00006: val_acc improved from 0.43817 to 0.45215, saving model to GRU_weights_06_0.452.hdf5\n",
      "133s - loss: 1.2343 - acc: 0.4437 - val_loss: 1.2121 - val_acc: 0.4521\n",
      "Epoch 8/1000\n"
     ]
    },
    {
     "name": "stderr",
     "output_type": "stream",
     "text": [
      "The installed widget Javascript is the wrong version.\n"
     ]
    },
    {
     "name": "stdout",
     "output_type": "stream",
     "text": [
      "Epoch 00007: val_acc improved from 0.45215 to 0.48352, saving model to GRU_weights_07_0.484.hdf5\n",
      "133s - loss: 1.2069 - acc: 0.4613 - val_loss: 1.1333 - val_acc: 0.4835\n",
      "Epoch 9/1000\n"
     ]
    },
    {
     "name": "stderr",
     "output_type": "stream",
     "text": [
      "The installed widget Javascript is the wrong version.\n"
     ]
    },
    {
     "name": "stdout",
     "output_type": "stream",
     "text": [
      "Epoch 00008: val_acc improved from 0.48352 to 0.50916, saving model to GRU_weights_08_0.509.hdf5\n",
      "133s - loss: 1.2116 - acc: 0.4581 - val_loss: 1.1034 - val_acc: 0.5092\n",
      "Epoch 10/1000\n"
     ]
    },
    {
     "name": "stderr",
     "output_type": "stream",
     "text": [
      "The installed widget Javascript is the wrong version.\n"
     ]
    },
    {
     "name": "stdout",
     "output_type": "stream",
     "text": [
      "Epoch 00009: val_acc improved from 0.50916 to 0.52148, saving model to GRU_weights_09_0.521.hdf5\n",
      "133s - loss: 1.1403 - acc: 0.4863 - val_loss: 1.0698 - val_acc: 0.5215\n",
      "Epoch 11/1000\n"
     ]
    },
    {
     "name": "stderr",
     "output_type": "stream",
     "text": [
      "The installed widget Javascript is the wrong version.\n"
     ]
    },
    {
     "name": "stdout",
     "output_type": "stream",
     "text": [
      "Epoch 00010: val_acc improved from 0.52148 to 0.52850, saving model to GRU_weights_10_0.529.hdf5\n",
      "133s - loss: 1.0895 - acc: 0.5121 - val_loss: 1.0488 - val_acc: 0.5285\n",
      "Epoch 12/1000\n"
     ]
    },
    {
     "name": "stderr",
     "output_type": "stream",
     "text": [
      "The installed widget Javascript is the wrong version.\n"
     ]
    },
    {
     "name": "stdout",
     "output_type": "stream",
     "text": [
      "Epoch 00011: val_acc improved from 0.52850 to 0.54034, saving model to GRU_weights_11_0.540.hdf5\n",
      "133s - loss: 1.0656 - acc: 0.5199 - val_loss: 1.0210 - val_acc: 0.5403\n",
      "Epoch 13/1000\n"
     ]
    },
    {
     "name": "stderr",
     "output_type": "stream",
     "text": [
      "The installed widget Javascript is the wrong version.\n"
     ]
    },
    {
     "name": "stdout",
     "output_type": "stream",
     "text": [
      "Epoch 00012: val_acc did not improve\n",
      "133s - loss: 1.0478 - acc: 0.5320 - val_loss: 1.0247 - val_acc: 0.5394\n",
      "Epoch 14/1000\n"
     ]
    },
    {
     "name": "stderr",
     "output_type": "stream",
     "text": [
      "The installed widget Javascript is the wrong version.\n"
     ]
    },
    {
     "name": "stdout",
     "output_type": "stream",
     "text": [
      "Epoch 00013: val_acc improved from 0.54034 to 0.55212, saving model to GRU_weights_13_0.552.hdf5\n",
      "133s - loss: 1.0298 - acc: 0.5432 - val_loss: 1.0053 - val_acc: 0.5521\n",
      "Epoch 15/1000\n"
     ]
    },
    {
     "name": "stderr",
     "output_type": "stream",
     "text": [
      "The installed widget Javascript is the wrong version.\n"
     ]
    },
    {
     "name": "stdout",
     "output_type": "stream",
     "text": [
      "Epoch 00014: val_acc did not improve\n",
      "133s - loss: 1.0308 - acc: 0.5350 - val_loss: 1.0153 - val_acc: 0.5472\n",
      "Epoch 16/1000\n"
     ]
    },
    {
     "name": "stderr",
     "output_type": "stream",
     "text": [
      "The installed widget Javascript is the wrong version.\n"
     ]
    },
    {
     "name": "stdout",
     "output_type": "stream",
     "text": [
      "Epoch 00015: val_acc improved from 0.55212 to 0.55682, saving model to GRU_weights_15_0.557.hdf5\n",
      "133s - loss: 1.0167 - acc: 0.5423 - val_loss: 0.9906 - val_acc: 0.5568\n",
      "Epoch 17/1000\n"
     ]
    },
    {
     "name": "stderr",
     "output_type": "stream",
     "text": [
      "The installed widget Javascript is the wrong version.\n"
     ]
    },
    {
     "name": "stdout",
     "output_type": "stream",
     "text": [
      "Epoch 00016: val_acc improved from 0.55682 to 0.56659, saving model to GRU_weights_16_0.567.hdf5\n",
      "133s - loss: 1.0164 - acc: 0.5432 - val_loss: 0.9673 - val_acc: 0.5666\n",
      "Epoch 18/1000\n"
     ]
    },
    {
     "name": "stderr",
     "output_type": "stream",
     "text": [
      "The installed widget Javascript is the wrong version.\n"
     ]
    },
    {
     "name": "stdout",
     "output_type": "stream",
     "text": [
      "Epoch 00017: val_acc did not improve\n",
      "133s - loss: 0.9885 - acc: 0.5536 - val_loss: 0.9795 - val_acc: 0.5540\n",
      "Epoch 19/1000\n"
     ]
    },
    {
     "name": "stderr",
     "output_type": "stream",
     "text": [
      "The installed widget Javascript is the wrong version.\n"
     ]
    },
    {
     "name": "stdout",
     "output_type": "stream",
     "text": [
      "Epoch 00018: val_acc improved from 0.56659 to 0.57465, saving model to GRU_weights_18_0.575.hdf5\n",
      "133s - loss: 0.9940 - acc: 0.5532 - val_loss: 0.9506 - val_acc: 0.5746\n",
      "Epoch 20/1000\n"
     ]
    },
    {
     "name": "stderr",
     "output_type": "stream",
     "text": [
      "The installed widget Javascript is the wrong version.\n"
     ]
    },
    {
     "name": "stdout",
     "output_type": "stream",
     "text": [
      "Epoch 00019: val_acc did not improve\n",
      "133s - loss: 0.9862 - acc: 0.5557 - val_loss: 0.9603 - val_acc: 0.5716\n",
      "Epoch 21/1000\n"
     ]
    },
    {
     "name": "stderr",
     "output_type": "stream",
     "text": [
      "The installed widget Javascript is the wrong version.\n"
     ]
    },
    {
     "name": "stdout",
     "output_type": "stream",
     "text": [
      "Epoch 00021: val_acc did not improve\n",
      "133s - loss: 0.9707 - acc: 0.5648 - val_loss: 0.9438 - val_acc: 0.5742\n",
      "Epoch 23/1000\n"
     ]
    },
    {
     "name": "stderr",
     "output_type": "stream",
     "text": [
      "The installed widget Javascript is the wrong version.\n"
     ]
    },
    {
     "name": "stdout",
     "output_type": "stream",
     "text": [
      "Epoch 00022: val_acc improved from 0.57922 to 0.57941, saving model to GRU_weights_22_0.579.hdf5\n",
      "133s - loss: 0.9580 - acc: 0.5696 - val_loss: 0.9342 - val_acc: 0.5794\n",
      "Epoch 24/1000\n"
     ]
    },
    {
     "name": "stderr",
     "output_type": "stream",
     "text": [
      "The installed widget Javascript is the wrong version.\n"
     ]
    },
    {
     "name": "stdout",
     "output_type": "stream",
     "text": [
      "Epoch 00023: val_acc did not improve\n",
      "133s - loss: 0.9557 - acc: 0.5683 - val_loss: 0.9394 - val_acc: 0.5771\n",
      "Epoch 25/1000\n"
     ]
    },
    {
     "name": "stderr",
     "output_type": "stream",
     "text": [
      "The installed widget Javascript is the wrong version.\n"
     ]
    },
    {
     "name": "stdout",
     "output_type": "stream",
     "text": [
      "Epoch 00024: val_acc improved from 0.57941 to 0.58301, saving model to GRU_weights_24_0.583.hdf5\n",
      "133s - loss: 0.9515 - acc: 0.5732 - val_loss: 0.9316 - val_acc: 0.5830\n",
      "Epoch 26/1000\n"
     ]
    },
    {
     "name": "stderr",
     "output_type": "stream",
     "text": [
      "The installed widget Javascript is the wrong version.\n"
     ]
    },
    {
     "name": "stdout",
     "output_type": "stream",
     "text": [
      "Epoch 00025: val_acc did not improve\n",
      "133s - loss: 0.9356 - acc: 0.5814 - val_loss: 0.9244 - val_acc: 0.5783\n",
      "Epoch 27/1000\n"
     ]
    },
    {
     "name": "stderr",
     "output_type": "stream",
     "text": [
      "The installed widget Javascript is the wrong version.\n"
     ]
    },
    {
     "name": "stdout",
     "output_type": "stream",
     "text": [
      "Epoch 00026: val_acc improved from 0.58301 to 0.59003, saving model to GRU_weights_26_0.590.hdf5\n",
      "133s - loss: 0.9472 - acc: 0.5768 - val_loss: 0.9215 - val_acc: 0.5900\n",
      "Epoch 28/1000\n"
     ]
    },
    {
     "name": "stderr",
     "output_type": "stream",
     "text": [
      "The installed widget Javascript is the wrong version.\n"
     ]
    },
    {
     "name": "stdout",
     "output_type": "stream",
     "text": [
      "Epoch 00027: val_acc did not improve\n",
      "133s - loss: 0.9400 - acc: 0.5804 - val_loss: 0.9222 - val_acc: 0.5833\n",
      "Epoch 29/1000\n"
     ]
    },
    {
     "name": "stderr",
     "output_type": "stream",
     "text": [
      "The installed widget Javascript is the wrong version.\n"
     ]
    },
    {
     "name": "stdout",
     "output_type": "stream",
     "text": [
      "Epoch 00028: val_acc did not improve\n",
      "133s - loss: 0.9243 - acc: 0.5839 - val_loss: 0.9153 - val_acc: 0.5895\n",
      "Epoch 30/1000\n"
     ]
    },
    {
     "name": "stderr",
     "output_type": "stream",
     "text": [
      "The installed widget Javascript is the wrong version.\n"
     ]
    },
    {
     "name": "stdout",
     "output_type": "stream",
     "text": [
      "Epoch 00029: val_acc improved from 0.59003 to 0.59070, saving model to GRU_weights_29_0.591.hdf5\n",
      "133s - loss: 0.9299 - acc: 0.5848 - val_loss: 0.9104 - val_acc: 0.5907\n",
      "Epoch 31/1000\n"
     ]
    },
    {
     "name": "stderr",
     "output_type": "stream",
     "text": [
      "The installed widget Javascript is the wrong version.\n"
     ]
    },
    {
     "name": "stdout",
     "output_type": "stream",
     "text": [
      "Epoch 00030: val_acc did not improve\n",
      "133s - loss: 0.9130 - acc: 0.5919 - val_loss: 0.9140 - val_acc: 0.5848\n",
      "Epoch 32/1000\n"
     ]
    },
    {
     "name": "stderr",
     "output_type": "stream",
     "text": [
      "The installed widget Javascript is the wrong version.\n"
     ]
    },
    {
     "name": "stdout",
     "output_type": "stream",
     "text": [
      "Epoch 00032: val_acc did not improve\n",
      "133s - loss: 0.9138 - acc: 0.5905 - val_loss: 0.9085 - val_acc: 0.5867\n",
      "Epoch 34/1000\n"
     ]
    },
    {
     "name": "stderr",
     "output_type": "stream",
     "text": [
      "The installed widget Javascript is the wrong version.\n"
     ]
    },
    {
     "name": "stdout",
     "output_type": "stream",
     "text": [
      "Epoch 00033: val_acc improved from 0.59277 to 0.60364, saving model to GRU_weights_33_0.604.hdf5\n",
      "133s - loss: 0.9163 - acc: 0.5872 - val_loss: 0.8948 - val_acc: 0.6036\n",
      "Epoch 35/1000\n"
     ]
    },
    {
     "name": "stderr",
     "output_type": "stream",
     "text": [
      "The installed widget Javascript is the wrong version.\n"
     ]
    },
    {
     "name": "stdout",
     "output_type": "stream",
     "text": [
      "Epoch 00034: val_acc did not improve\n",
      "133s - loss: 0.8992 - acc: 0.5990 - val_loss: 0.8981 - val_acc: 0.6002\n",
      "Epoch 36/1000\n"
     ]
    },
    {
     "name": "stderr",
     "output_type": "stream",
     "text": [
      "The installed widget Javascript is the wrong version.\n"
     ]
    },
    {
     "name": "stdout",
     "output_type": "stream",
     "text": [
      "Epoch 00035: val_acc did not improve\n",
      "133s - loss: 0.8926 - acc: 0.6027 - val_loss: 0.8919 - val_acc: 0.5964\n",
      "Epoch 37/1000\n"
     ]
    },
    {
     "name": "stderr",
     "output_type": "stream",
     "text": [
      "The installed widget Javascript is the wrong version.\n"
     ]
    },
    {
     "name": "stdout",
     "output_type": "stream",
     "text": [
      "Epoch 00036: val_acc did not improve\n",
      "133s - loss: 0.8980 - acc: 0.5992 - val_loss: 0.8912 - val_acc: 0.6000\n",
      "Epoch 38/1000\n"
     ]
    },
    {
     "name": "stderr",
     "output_type": "stream",
     "text": [
      "The installed widget Javascript is the wrong version.\n"
     ]
    },
    {
     "name": "stdout",
     "output_type": "stream",
     "text": [
      "Epoch 00037: val_acc did not improve\n",
      "133s - loss: 0.8946 - acc: 0.6015 - val_loss: 0.8865 - val_acc: 0.5964\n",
      "Epoch 39/1000\n"
     ]
    },
    {
     "name": "stderr",
     "output_type": "stream",
     "text": [
      "The installed widget Javascript is the wrong version.\n"
     ]
    },
    {
     "name": "stdout",
     "output_type": "stream",
     "text": [
      "Epoch 00038: val_acc improved from 0.60364 to 0.60498, saving model to GRU_weights_38_0.605.hdf5\n",
      "151s - loss: 0.8972 - acc: 0.5985 - val_loss: 0.8860 - val_acc: 0.6050\n",
      "Epoch 40/1000\n"
     ]
    },
    {
     "name": "stderr",
     "output_type": "stream",
     "text": [
      "The installed widget Javascript is the wrong version.\n"
     ]
    },
    {
     "name": "stdout",
     "output_type": "stream",
     "text": [
      "Epoch 00039: val_acc improved from 0.60498 to 0.61493, saving model to GRU_weights_39_0.615.hdf5\n",
      "165s - loss: 0.8799 - acc: 0.6109 - val_loss: 0.8756 - val_acc: 0.6149\n",
      "Epoch 41/1000\n"
     ]
    },
    {
     "name": "stderr",
     "output_type": "stream",
     "text": [
      "The installed widget Javascript is the wrong version.\n"
     ]
    },
    {
     "name": "stdout",
     "output_type": "stream",
     "text": [
      "Epoch 00040: val_acc did not improve\n",
      "133s - loss: 0.8709 - acc: 0.6122 - val_loss: 0.8786 - val_acc: 0.6047\n",
      "Epoch 42/1000\n"
     ]
    },
    {
     "name": "stderr",
     "output_type": "stream",
     "text": [
      "The installed widget Javascript is the wrong version.\n"
     ]
    },
    {
     "name": "stdout",
     "output_type": "stream",
     "text": [
      "Epoch 00041: val_acc did not improve\n",
      "133s - loss: 0.8776 - acc: 0.6099 - val_loss: 0.8772 - val_acc: 0.6021\n",
      "Epoch 43/1000\n"
     ]
    },
    {
     "name": "stderr",
     "output_type": "stream",
     "text": [
      "The installed widget Javascript is the wrong version.\n"
     ]
    },
    {
     "name": "stdout",
     "output_type": "stream",
     "text": [
      "Epoch 00042: val_acc did not improve\n",
      "134s - loss: 0.8723 - acc: 0.6104 - val_loss: 0.8677 - val_acc: 0.6094\n",
      "Epoch 44/1000\n"
     ]
    },
    {
     "name": "stderr",
     "output_type": "stream",
     "text": [
      "The installed widget Javascript is the wrong version.\n"
     ]
    },
    {
     "name": "stdout",
     "output_type": "stream",
     "text": [
      "Epoch 00043: val_acc did not improve\n",
      "135s - loss: 0.8730 - acc: 0.6076 - val_loss: 0.8724 - val_acc: 0.6082\n",
      "Epoch 45/1000\n"
     ]
    },
    {
     "name": "stderr",
     "output_type": "stream",
     "text": [
      "The installed widget Javascript is the wrong version.\n"
     ]
    },
    {
     "name": "stdout",
     "output_type": "stream",
     "text": [
      "Epoch 00044: val_acc did not improve\n",
      "179s - loss: 0.8652 - acc: 0.6167 - val_loss: 0.8710 - val_acc: 0.6126\n",
      "Epoch 46/1000\n"
     ]
    },
    {
     "name": "stderr",
     "output_type": "stream",
     "text": [
      "The installed widget Javascript is the wrong version.\n"
     ]
    },
    {
     "name": "stdout",
     "output_type": "stream",
     "text": [
      "Epoch 00045: val_acc did not improve\n",
      "133s - loss: 0.8474 - acc: 0.6255 - val_loss: 0.8634 - val_acc: 0.6103\n",
      "Epoch 47/1000\n"
     ]
    },
    {
     "name": "stderr",
     "output_type": "stream",
     "text": [
      "The installed widget Javascript is the wrong version.\n"
     ]
    },
    {
     "name": "stdout",
     "output_type": "stream",
     "text": [
      "Epoch 00046: val_acc improved from 0.61493 to 0.61713, saving model to GRU_weights_46_0.617.hdf5\n",
      "133s - loss: 0.8456 - acc: 0.6244 - val_loss: 0.8679 - val_acc: 0.6171\n",
      "Epoch 48/1000\n"
     ]
    },
    {
     "name": "stderr",
     "output_type": "stream",
     "text": [
      "The installed widget Javascript is the wrong version.\n"
     ]
    },
    {
     "name": "stdout",
     "output_type": "stream",
     "text": [
      "Epoch 00047: val_acc did not improve\n",
      "133s - loss: 0.8437 - acc: 0.6229 - val_loss: 0.8694 - val_acc: 0.6093\n",
      "Epoch 49/1000\n"
     ]
    },
    {
     "name": "stderr",
     "output_type": "stream",
     "text": [
      "The installed widget Javascript is the wrong version.\n"
     ]
    },
    {
     "name": "stdout",
     "output_type": "stream",
     "text": [
      "Epoch 00048: val_acc did not improve\n",
      "134s - loss: 0.8519 - acc: 0.6148 - val_loss: 0.8624 - val_acc: 0.6122\n",
      "Epoch 50/1000\n"
     ]
    },
    {
     "name": "stderr",
     "output_type": "stream",
     "text": [
      "The installed widget Javascript is the wrong version.\n"
     ]
    },
    {
     "name": "stdout",
     "output_type": "stream",
     "text": [
      "Epoch 00049: val_acc did not improve\n",
      "133s - loss: 0.8521 - acc: 0.6227 - val_loss: 0.8593 - val_acc: 0.6161\n",
      "Epoch 51/1000\n"
     ]
    },
    {
     "name": "stderr",
     "output_type": "stream",
     "text": [
      "The installed widget Javascript is the wrong version.\n"
     ]
    },
    {
     "name": "stdout",
     "output_type": "stream",
     "text": [
      "Epoch 00050: val_acc improved from 0.61713 to 0.61792, saving model to GRU_weights_50_0.618.hdf5\n",
      "133s - loss: 0.8346 - acc: 0.6316 - val_loss: 0.8502 - val_acc: 0.6179\n",
      "Epoch 52/1000\n"
     ]
    },
    {
     "name": "stderr",
     "output_type": "stream",
     "text": [
      "The installed widget Javascript is the wrong version.\n"
     ]
    },
    {
     "name": "stdout",
     "output_type": "stream",
     "text": [
      "Epoch 00052: val_acc improved from 0.62012 to 0.62097, saving model to GRU_weights_52_0.621.hdf5\n",
      "133s - loss: 0.8183 - acc: 0.6364 - val_loss: 0.8530 - val_acc: 0.6210\n",
      "Epoch 54/1000\n"
     ]
    },
    {
     "name": "stderr",
     "output_type": "stream",
     "text": [
      "The installed widget Javascript is the wrong version.\n"
     ]
    },
    {
     "name": "stdout",
     "output_type": "stream",
     "text": [
      "Epoch 00053: val_acc did not improve\n",
      "173s - loss: 0.8249 - acc: 0.6345 - val_loss: 0.8535 - val_acc: 0.6185\n",
      "Epoch 55/1000\n"
     ]
    },
    {
     "name": "stderr",
     "output_type": "stream",
     "text": [
      "The installed widget Javascript is the wrong version.\n"
     ]
    },
    {
     "name": "stdout",
     "output_type": "stream",
     "text": [
      "Epoch 00054: val_acc improved from 0.62097 to 0.62354, saving model to GRU_weights_54_0.624.hdf5\n",
      "191s - loss: 0.8232 - acc: 0.6378 - val_loss: 0.8464 - val_acc: 0.6235\n",
      "Epoch 56/1000\n"
     ]
    },
    {
     "name": "stderr",
     "output_type": "stream",
     "text": [
      "The installed widget Javascript is the wrong version.\n"
     ]
    },
    {
     "name": "stdout",
     "output_type": "stream",
     "text": [
      "Epoch 00055: val_acc did not improve\n",
      "166s - loss: 0.8251 - acc: 0.6299 - val_loss: 0.8438 - val_acc: 0.6209\n",
      "Epoch 57/1000\n"
     ]
    },
    {
     "name": "stderr",
     "output_type": "stream",
     "text": [
      "The installed widget Javascript is the wrong version.\n"
     ]
    },
    {
     "name": "stdout",
     "output_type": "stream",
     "text": [
      "Epoch 00056: val_acc did not improve\n",
      "132s - loss: 0.8096 - acc: 0.6398 - val_loss: 0.8478 - val_acc: 0.6203\n",
      "Epoch 58/1000\n"
     ]
    },
    {
     "name": "stderr",
     "output_type": "stream",
     "text": [
      "The installed widget Javascript is the wrong version.\n"
     ]
    },
    {
     "name": "stdout",
     "output_type": "stream",
     "text": [
      "Epoch 00057: val_acc improved from 0.62354 to 0.62646, saving model to GRU_weights_57_0.626.hdf5\n",
      "132s - loss: 0.8039 - acc: 0.6407 - val_loss: 0.8447 - val_acc: 0.6265\n",
      "Epoch 59/1000\n"
     ]
    },
    {
     "name": "stderr",
     "output_type": "stream",
     "text": [
      "The installed widget Javascript is the wrong version.\n"
     ]
    },
    {
     "name": "stdout",
     "output_type": "stream",
     "text": [
      "Epoch 00058: val_acc improved from 0.62646 to 0.62714, saving model to GRU_weights_58_0.627.hdf5\n",
      "132s - loss: 0.8062 - acc: 0.6438 - val_loss: 0.8445 - val_acc: 0.6271\n",
      "Epoch 60/1000\n"
     ]
    },
    {
     "name": "stderr",
     "output_type": "stream",
     "text": [
      "The installed widget Javascript is the wrong version.\n"
     ]
    },
    {
     "name": "stdout",
     "output_type": "stream",
     "text": [
      "Epoch 00059: val_acc improved from 0.62714 to 0.62897, saving model to GRU_weights_59_0.629.hdf5\n",
      "157s - loss: 0.7900 - acc: 0.6544 - val_loss: 0.8511 - val_acc: 0.6290\n",
      "Epoch 61/1000\n"
     ]
    },
    {
     "name": "stderr",
     "output_type": "stream",
     "text": [
      "The installed widget Javascript is the wrong version.\n"
     ]
    },
    {
     "name": "stdout",
     "output_type": "stream",
     "text": [
      "Epoch 00060: val_acc did not improve\n",
      "131s - loss: 0.8008 - acc: 0.6469 - val_loss: 0.8381 - val_acc: 0.6283\n",
      "Epoch 62/1000\n"
     ]
    },
    {
     "name": "stderr",
     "output_type": "stream",
     "text": [
      "The installed widget Javascript is the wrong version.\n"
     ]
    },
    {
     "name": "stdout",
     "output_type": "stream",
     "text": [
      "Epoch 00061: val_acc improved from 0.62897 to 0.62946, saving model to GRU_weights_61_0.629.hdf5\n",
      "131s - loss: 0.8065 - acc: 0.6443 - val_loss: 0.8381 - val_acc: 0.6295\n",
      "Epoch 63/1000\n"
     ]
    },
    {
     "name": "stderr",
     "output_type": "stream",
     "text": [
      "The installed widget Javascript is the wrong version.\n"
     ]
    },
    {
     "name": "stdout",
     "output_type": "stream",
     "text": [
      "Epoch 00062: val_acc did not improve\n",
      "155s - loss: 0.7787 - acc: 0.6577 - val_loss: 0.8405 - val_acc: 0.6252\n",
      "Epoch 64/1000\n"
     ]
    },
    {
     "name": "stderr",
     "output_type": "stream",
     "text": [
      "The installed widget Javascript is the wrong version.\n"
     ]
    },
    {
     "name": "stdout",
     "output_type": "stream",
     "text": [
      "Epoch 00063: val_acc did not improve\n",
      "131s - loss: 0.7798 - acc: 0.6570 - val_loss: 0.8371 - val_acc: 0.6262\n",
      "Epoch 65/1000\n"
     ]
    },
    {
     "name": "stderr",
     "output_type": "stream",
     "text": [
      "The installed widget Javascript is the wrong version.\n"
     ]
    },
    {
     "name": "stdout",
     "output_type": "stream",
     "text": [
      "Epoch 00064: val_acc improved from 0.62946 to 0.63043, saving model to GRU_weights_64_0.630.hdf5\n",
      "131s - loss: 0.7775 - acc: 0.6567 - val_loss: 0.8387 - val_acc: 0.6304\n",
      "Epoch 66/1000\n"
     ]
    },
    {
     "name": "stderr",
     "output_type": "stream",
     "text": [
      "The installed widget Javascript is the wrong version.\n"
     ]
    },
    {
     "name": "stdout",
     "output_type": "stream",
     "text": [
      "Epoch 00066: val_acc improved from 0.63043 to 0.63312, saving model to GRU_weights_66_0.633.hdf5\n",
      "131s - loss: 0.7867 - acc: 0.6559 - val_loss: 0.8327 - val_acc: 0.6331\n",
      "Epoch 68/1000\n"
     ]
    },
    {
     "name": "stderr",
     "output_type": "stream",
     "text": [
      "The installed widget Javascript is the wrong version.\n"
     ]
    },
    {
     "name": "stdout",
     "output_type": "stream",
     "text": [
      "Epoch 00067: val_acc improved from 0.63312 to 0.63556, saving model to GRU_weights_67_0.636.hdf5\n",
      "161s - loss: 0.7676 - acc: 0.6610 - val_loss: 0.8309 - val_acc: 0.6356\n",
      "Epoch 69/1000\n"
     ]
    },
    {
     "name": "stderr",
     "output_type": "stream",
     "text": [
      "The installed widget Javascript is the wrong version.\n"
     ]
    },
    {
     "name": "stdout",
     "output_type": "stream",
     "text": [
      "Epoch 00070: val_acc did not improve\n",
      "132s - loss: 0.7592 - acc: 0.6658 - val_loss: 0.8338 - val_acc: 0.6311\n",
      "Epoch 72/1000\n"
     ]
    },
    {
     "name": "stderr",
     "output_type": "stream",
     "text": [
      "The installed widget Javascript is the wrong version.\n"
     ]
    },
    {
     "name": "stdout",
     "output_type": "stream",
     "text": [
      "Epoch 00071: val_acc did not improve\n",
      "132s - loss: 0.7525 - acc: 0.6712 - val_loss: 0.8432 - val_acc: 0.6252\n",
      "Epoch 73/1000\n"
     ]
    },
    {
     "name": "stderr",
     "output_type": "stream",
     "text": [
      "The installed widget Javascript is the wrong version.\n"
     ]
    },
    {
     "name": "stdout",
     "output_type": "stream",
     "text": [
      "Epoch 00072: val_acc improved from 0.63556 to 0.63562, saving model to GRU_weights_72_0.636.hdf5\n",
      "168s - loss: 0.7591 - acc: 0.6661 - val_loss: 0.8291 - val_acc: 0.6356\n",
      "Epoch 74/1000\n"
     ]
    },
    {
     "name": "stderr",
     "output_type": "stream",
     "text": [
      "The installed widget Javascript is the wrong version.\n"
     ]
    },
    {
     "name": "stdout",
     "output_type": "stream",
     "text": [
      "Epoch 00082: val_acc did not improve\n",
      "131s - loss: 0.7229 - acc: 0.6822 - val_loss: 0.8331 - val_acc: 0.6339\n",
      "Epoch 84/1000\n"
     ]
    },
    {
     "name": "stderr",
     "output_type": "stream",
     "text": [
      "The installed widget Javascript is the wrong version.\n"
     ]
    },
    {
     "name": "stdout",
     "output_type": "stream",
     "text": [
      "Epoch 00083: val_acc did not improve\n",
      "131s - loss: 0.7317 - acc: 0.6793 - val_loss: 0.8354 - val_acc: 0.6348\n"
     ]
    }
   ],
   "source": [
    "model = get_nn_model(input_dim=input_dim)\n",
    "history = model.fit_generator(generator=batch_generator(x_train, y_train_categorical, batch_size, shuffle=True),\n",
    "                              steps_per_epoch=steps_per_epoch,\n",
    "                              validation_data=batch_generator(x_validation, y_validation_categorical,\n",
    "                                                              batch_size, shuffle=False),\n",
    "                              validation_steps=validation_steps,\n",
    "                              epochs=1000, verbose=2, callbacks=callbacks_list)"
   ]
  },
  {
   "cell_type": "markdown",
   "metadata": {},
   "source": [
    "# Ответ"
   ]
  },
  {
   "cell_type": "code",
   "execution_count": 26,
   "metadata": {},
   "outputs": [
    {
     "name": "stdout",
     "output_type": "stream",
     "text": [
      "_________________________________________________________________\n",
      "Layer (type)                 Output Shape              Param #   \n",
      "=================================================================\n",
      "gru_2 (GRU)                  (None, 300)               540900    \n",
      "_________________________________________________________________\n",
      "dense_2 (Dense)              (None, 5)                 1505      \n",
      "=================================================================\n",
      "Total params: 542,405.0\n",
      "Trainable params: 542,405\n",
      "Non-trainable params: 0.0\n",
      "_________________________________________________________________\n",
      "None\n"
     ]
    }
   ],
   "source": [
    "model = get_nn_model(path_to_hdf5=\"GRU_weights_59_0.645.hdf5\", input_dim=input_dim)"
   ]
  },
  {
   "cell_type": "code",
   "execution_count": 60,
   "metadata": {
    "collapsed": true
   },
   "outputs": [],
   "source": [
    "def batch_generator_test(X, batch_size):\n",
    "    X_length = X.shape[0]\n",
    "    counter, indexes = 0, np.arange(X_length)\n",
    "\n",
    "    while True:\n",
    "        index_batch = indexes[batch_size*counter:batch_size*(counter+1)]\n",
    "        X_batch = X[index_batch]\n",
    "        counter += 1\n",
    "        yield batch_to_sequence(X_batch)"
   ]
  },
  {
   "cell_type": "code",
   "execution_count": 61,
   "metadata": {},
   "outputs": [],
   "source": [
    "test_shape = x_test.shape[0]\n",
    "steps = test_shape//batch_size+1\n",
    "\n",
    "results = model.predict_generator(batch_generator_test(x_test, batch_size), steps)\n",
    "marks = [np.argmax(answer_categorical)+1 for answer_categorical in results[:test_shape]]"
   ]
  },
  {
   "cell_type": "code",
   "execution_count": 62,
   "metadata": {},
   "outputs": [],
   "source": [
    "test_set['Sentiment'] = marks\n",
    "test_set[['Sentiment']].to_csv('ans.csv')"
   ]
  },
  {
   "cell_type": "code",
   "execution_count": null,
   "metadata": {
    "collapsed": true
   },
   "outputs": [],
   "source": []
  }
 ],
 "metadata": {
  "anaconda-cloud": {},
  "kernelspec": {
   "display_name": "Python [conda env:py35]",
   "language": "python",
   "name": "conda-env-py35-py"
  },
  "language_info": {
   "codemirror_mode": {
    "name": "ipython",
    "version": 3
   },
   "file_extension": ".py",
   "mimetype": "text/x-python",
   "name": "python",
   "nbconvert_exporter": "python",
   "pygments_lexer": "ipython3",
   "version": "3.5.2"
  }
 },
 "nbformat": 4,
 "nbformat_minor": 2
}
